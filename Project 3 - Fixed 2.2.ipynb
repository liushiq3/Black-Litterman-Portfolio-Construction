{
 "cells": [
  {
   "cell_type": "code",
   "execution_count": 1,
   "metadata": {},
   "outputs": [],
   "source": [
    "# Import modules\n",
    "import pandas as pd\n",
    "import numpy as np\n",
    "import warnings\n",
    "warnings.simplefilter(action='ignore')\n",
    "import pickle \n",
    "from numpy.linalg import inv\n",
    "import statistics \n",
    "import scipy.optimize as solver\n",
    "from functools import reduce\n",
    "from numpy.linalg import inv,norm\n",
    "import datetime as dt\n",
    "import pickle \n",
    "import matplotlib.pyplot as plt"
   ]
  },
  {
   "cell_type": "code",
   "execution_count": 2,
   "metadata": {},
   "outputs": [],
   "source": [
    "with open('Factor_SP500', 'rb') as f_Factor_SP500: \n",
    "    Factor_SP500 = pickle.load(f_Factor_SP500)"
   ]
  },
  {
   "cell_type": "code",
   "execution_count": 3,
   "metadata": {},
   "outputs": [],
   "source": [
    "with open('HL1M_Qspread', 'rb') as f_HL1M_Qspread: \n",
    "    HL1M_Qspread = pickle.load(f_HL1M_Qspread)"
   ]
  },
  {
   "cell_type": "code",
   "execution_count": 4,
   "metadata": {},
   "outputs": [],
   "source": [
    "with open('HL1M_RET_Sort_top', 'rb') as f_HL1M_RET_Sort_top: \n",
    "    HL1M_RET_Sort_top = pickle.load(f_HL1M_RET_Sort_top)"
   ]
  },
  {
   "cell_type": "code",
   "execution_count": 5,
   "metadata": {},
   "outputs": [],
   "source": [
    "with open('HL1M_RET_Sort_bottom', 'rb') as f_HL1M_RET_Sort_bottom: \n",
    "    HL1M_RET_Sort_bottom = pickle.load(f_HL1M_RET_Sort_bottom)"
   ]
  },
  {
   "cell_type": "code",
   "execution_count": 6,
   "metadata": {},
   "outputs": [],
   "source": [
    "with open('HL1M_Factor_Sort', 'rb') as f_HL1M_Factor_Sort: \n",
    "    HL1M_Factor_Sort = pickle.load(f_HL1M_Factor_Sort)"
   ]
  },
  {
   "cell_type": "code",
   "execution_count": 7,
   "metadata": {},
   "outputs": [],
   "source": [
    "with open('Factor_RET', 'rb') as f_Factor_RET: \n",
    "    Factor_RET = pickle.load(f_Factor_RET)"
   ]
  },
  {
   "cell_type": "code",
   "execution_count": 8,
   "metadata": {},
   "outputs": [],
   "source": [
    "with open('Factor_MV', 'rb') as f_Factor_MV: \n",
    "    Factor_MV = pickle.load(f_Factor_MV)"
   ]
  },
  {
   "cell_type": "code",
   "execution_count": 9,
   "metadata": {},
   "outputs": [],
   "source": [
    "with open('Date_unique', 'rb') as f_Date_unique: \n",
    "    Date_unique = pickle.load(f_Date_unique)"
   ]
  },
  {
   "cell_type": "code",
   "execution_count": 10,
   "metadata": {},
   "outputs": [],
   "source": [
    "with open('Gvkey_unique', 'rb') as f_Gvkey_unique: \n",
    "    Gvkey_unique = pickle.load(f_Gvkey_unique)"
   ]
  },
  {
   "cell_type": "code",
   "execution_count": 11,
   "metadata": {},
   "outputs": [],
   "source": [
    "for i in Factor_SP500:\n",
    "    i.set_index('gvkey',inplace=True)"
   ]
  },
  {
   "cell_type": "markdown",
   "metadata": {},
   "source": [
    "## Part 1: Preparing the Dataset"
   ]
  },
  {
   "cell_type": "markdown",
   "metadata": {},
   "source": [
    "**Extract the return data** "
   ]
  },
  {
   "cell_type": "code",
   "execution_count": 12,
   "metadata": {},
   "outputs": [
    {
     "data": {
      "text/plain": [
       "Int64Index([  1075,   1078,   1161,   1177,   1209,   1300,   1356,   1408,\n",
       "              1440,   1447,\n",
       "            ...\n",
       "            176404, 177376, 178310, 179534, 179621, 179700, 180167, 180833,\n",
       "            183257, 260774],\n",
       "           dtype='int64', name='gvkey', length=469)"
      ]
     },
     "execution_count": 12,
     "metadata": {},
     "output_type": "execute_result"
    }
   ],
   "source": [
    "ref_row = Date_unique.index(201012)\n",
    "reference = Factor_SP500[ref_row]\n",
    "sp_members = reference[(reference['sp500']==1)].index\n",
    "sp_members"
   ]
  },
  {
   "cell_type": "code",
   "execution_count": 13,
   "metadata": {},
   "outputs": [],
   "source": [
    "#set the index of each dataframe to the company gvkeys\n",
    "for i in Factor_RET:\n",
    "    i.set_index('gvkey',inplace=True)"
   ]
  },
  {
   "cell_type": "code",
   "execution_count": 14,
   "metadata": {
    "scrolled": true
   },
   "outputs": [
    {
     "data": {
      "text/html": [
       "<div>\n",
       "<style scoped>\n",
       "    .dataframe tbody tr th:only-of-type {\n",
       "        vertical-align: middle;\n",
       "    }\n",
       "\n",
       "    .dataframe tbody tr th {\n",
       "        vertical-align: top;\n",
       "    }\n",
       "\n",
       "    .dataframe thead th {\n",
       "        text-align: right;\n",
       "    }\n",
       "</style>\n",
       "<table border=\"1\" class=\"dataframe\">\n",
       "  <thead>\n",
       "    <tr style=\"text-align: right;\">\n",
       "      <th>gvkey</th>\n",
       "      <th>1075</th>\n",
       "      <th>1078</th>\n",
       "      <th>1161</th>\n",
       "      <th>1177</th>\n",
       "      <th>1209</th>\n",
       "      <th>1300</th>\n",
       "      <th>1356</th>\n",
       "      <th>1408</th>\n",
       "      <th>1440</th>\n",
       "      <th>1447</th>\n",
       "      <th>...</th>\n",
       "      <th>176404</th>\n",
       "      <th>177376</th>\n",
       "      <th>178310</th>\n",
       "      <th>179534</th>\n",
       "      <th>179621</th>\n",
       "      <th>179700</th>\n",
       "      <th>180167</th>\n",
       "      <th>180833</th>\n",
       "      <th>183257</th>\n",
       "      <th>260774</th>\n",
       "    </tr>\n",
       "  </thead>\n",
       "  <tbody>\n",
       "    <tr>\n",
       "      <th>197001</th>\n",
       "      <td>-8.0936</td>\n",
       "      <td>-4.2157</td>\n",
       "      <td>NaN</td>\n",
       "      <td>-9.0323</td>\n",
       "      <td>-11.3923</td>\n",
       "      <td>-3.5897</td>\n",
       "      <td>-8.5965</td>\n",
       "      <td>-8.3916</td>\n",
       "      <td>-7.8838</td>\n",
       "      <td>NaN</td>\n",
       "      <td>...</td>\n",
       "      <td>NaN</td>\n",
       "      <td>NaN</td>\n",
       "      <td>NaN</td>\n",
       "      <td>NaN</td>\n",
       "      <td>NaN</td>\n",
       "      <td>NaN</td>\n",
       "      <td>NaN</td>\n",
       "      <td>NaN</td>\n",
       "      <td>NaN</td>\n",
       "      <td>NaN</td>\n",
       "    </tr>\n",
       "    <tr>\n",
       "      <th>197002</th>\n",
       "      <td>14.1935</td>\n",
       "      <td>3.5959</td>\n",
       "      <td>NaN</td>\n",
       "      <td>16.3121</td>\n",
       "      <td>19.2641</td>\n",
       "      <td>1.2766</td>\n",
       "      <td>13.1670</td>\n",
       "      <td>1.6031</td>\n",
       "      <td>10.0360</td>\n",
       "      <td>NaN</td>\n",
       "      <td>...</td>\n",
       "      <td>NaN</td>\n",
       "      <td>NaN</td>\n",
       "      <td>NaN</td>\n",
       "      <td>NaN</td>\n",
       "      <td>NaN</td>\n",
       "      <td>NaN</td>\n",
       "      <td>NaN</td>\n",
       "      <td>NaN</td>\n",
       "      <td>NaN</td>\n",
       "      <td>NaN</td>\n",
       "    </tr>\n",
       "    <tr>\n",
       "      <th>197003</th>\n",
       "      <td>-1.6949</td>\n",
       "      <td>-3.1405</td>\n",
       "      <td>NaN</td>\n",
       "      <td>11.2195</td>\n",
       "      <td>6.7278</td>\n",
       "      <td>1.0638</td>\n",
       "      <td>-3.5836</td>\n",
       "      <td>1.9084</td>\n",
       "      <td>3.3195</td>\n",
       "      <td>NaN</td>\n",
       "      <td>...</td>\n",
       "      <td>NaN</td>\n",
       "      <td>NaN</td>\n",
       "      <td>NaN</td>\n",
       "      <td>NaN</td>\n",
       "      <td>NaN</td>\n",
       "      <td>NaN</td>\n",
       "      <td>NaN</td>\n",
       "      <td>NaN</td>\n",
       "      <td>NaN</td>\n",
       "      <td>NaN</td>\n",
       "    </tr>\n",
       "    <tr>\n",
       "      <th>197004</th>\n",
       "      <td>-6.2299</td>\n",
       "      <td>-5.4266</td>\n",
       "      <td>NaN</td>\n",
       "      <td>-11.6022</td>\n",
       "      <td>-6.0171</td>\n",
       "      <td>-13.6842</td>\n",
       "      <td>-8.4956</td>\n",
       "      <td>2.2472</td>\n",
       "      <td>-9.6386</td>\n",
       "      <td>NaN</td>\n",
       "      <td>...</td>\n",
       "      <td>NaN</td>\n",
       "      <td>NaN</td>\n",
       "      <td>NaN</td>\n",
       "      <td>NaN</td>\n",
       "      <td>NaN</td>\n",
       "      <td>NaN</td>\n",
       "      <td>NaN</td>\n",
       "      <td>NaN</td>\n",
       "      <td>NaN</td>\n",
       "      <td>NaN</td>\n",
       "    </tr>\n",
       "    <tr>\n",
       "      <th>197005</th>\n",
       "      <td>-5.5901</td>\n",
       "      <td>-9.7826</td>\n",
       "      <td>NaN</td>\n",
       "      <td>-8.1250</td>\n",
       "      <td>-9.7561</td>\n",
       "      <td>-2.1951</td>\n",
       "      <td>-16.9053</td>\n",
       "      <td>1.5385</td>\n",
       "      <td>-4.3200</td>\n",
       "      <td>NaN</td>\n",
       "      <td>...</td>\n",
       "      <td>NaN</td>\n",
       "      <td>NaN</td>\n",
       "      <td>NaN</td>\n",
       "      <td>NaN</td>\n",
       "      <td>NaN</td>\n",
       "      <td>NaN</td>\n",
       "      <td>NaN</td>\n",
       "      <td>NaN</td>\n",
       "      <td>NaN</td>\n",
       "      <td>NaN</td>\n",
       "    </tr>\n",
       "    <tr>\n",
       "      <th>...</th>\n",
       "      <td>...</td>\n",
       "      <td>...</td>\n",
       "      <td>...</td>\n",
       "      <td>...</td>\n",
       "      <td>...</td>\n",
       "      <td>...</td>\n",
       "      <td>...</td>\n",
       "      <td>...</td>\n",
       "      <td>...</td>\n",
       "      <td>...</td>\n",
       "      <td>...</td>\n",
       "      <td>...</td>\n",
       "      <td>...</td>\n",
       "      <td>...</td>\n",
       "      <td>...</td>\n",
       "      <td>...</td>\n",
       "      <td>...</td>\n",
       "      <td>...</td>\n",
       "      <td>...</td>\n",
       "      <td>...</td>\n",
       "      <td>...</td>\n",
       "    </tr>\n",
       "    <tr>\n",
       "      <th>201908</th>\n",
       "      <td>4.4837</td>\n",
       "      <td>-2.0436</td>\n",
       "      <td>3.2841</td>\n",
       "      <td>NaN</td>\n",
       "      <td>-1.0295</td>\n",
       "      <td>-4.0705</td>\n",
       "      <td>NaN</td>\n",
       "      <td>NaN</td>\n",
       "      <td>4.5667</td>\n",
       "      <td>-3.2162</td>\n",
       "      <td>...</td>\n",
       "      <td>NaN</td>\n",
       "      <td>-10.3967</td>\n",
       "      <td>-15.7018</td>\n",
       "      <td>1.7247</td>\n",
       "      <td>-13.7783</td>\n",
       "      <td>NaN</td>\n",
       "      <td>NaN</td>\n",
       "      <td>NaN</td>\n",
       "      <td>NaN</td>\n",
       "      <td>-1.3960</td>\n",
       "    </tr>\n",
       "    <tr>\n",
       "      <th>201909</th>\n",
       "      <td>1.8466</td>\n",
       "      <td>-1.9339</td>\n",
       "      <td>-7.8219</td>\n",
       "      <td>NaN</td>\n",
       "      <td>-1.2836</td>\n",
       "      <td>2.7822</td>\n",
       "      <td>NaN</td>\n",
       "      <td>NaN</td>\n",
       "      <td>2.7866</td>\n",
       "      <td>-1.7363</td>\n",
       "      <td>...</td>\n",
       "      <td>NaN</td>\n",
       "      <td>1.4005</td>\n",
       "      <td>0.4211</td>\n",
       "      <td>-4.8722</td>\n",
       "      <td>6.9496</td>\n",
       "      <td>NaN</td>\n",
       "      <td>NaN</td>\n",
       "      <td>NaN</td>\n",
       "      <td>NaN</td>\n",
       "      <td>1.4157</td>\n",
       "    </tr>\n",
       "    <tr>\n",
       "      <th>201910</th>\n",
       "      <td>-3.0390</td>\n",
       "      <td>0.3107</td>\n",
       "      <td>17.0404</td>\n",
       "      <td>NaN</td>\n",
       "      <td>-3.8763</td>\n",
       "      <td>2.0863</td>\n",
       "      <td>NaN</td>\n",
       "      <td>NaN</td>\n",
       "      <td>0.7471</td>\n",
       "      <td>-0.4819</td>\n",
       "      <td>...</td>\n",
       "      <td>NaN</td>\n",
       "      <td>-1.0236</td>\n",
       "      <td>-3.4516</td>\n",
       "      <td>3.9823</td>\n",
       "      <td>7.2567</td>\n",
       "      <td>NaN</td>\n",
       "      <td>NaN</td>\n",
       "      <td>NaN</td>\n",
       "      <td>NaN</td>\n",
       "      <td>1.0187</td>\n",
       "    </tr>\n",
       "    <tr>\n",
       "      <th>201911</th>\n",
       "      <td>-6.3191</td>\n",
       "      <td>2.2007</td>\n",
       "      <td>15.3846</td>\n",
       "      <td>NaN</td>\n",
       "      <td>10.8178</td>\n",
       "      <td>3.8905</td>\n",
       "      <td>NaN</td>\n",
       "      <td>NaN</td>\n",
       "      <td>-2.4791</td>\n",
       "      <td>2.4216</td>\n",
       "      <td>...</td>\n",
       "      <td>NaN</td>\n",
       "      <td>6.2921</td>\n",
       "      <td>-11.2596</td>\n",
       "      <td>3.3266</td>\n",
       "      <td>1.8296</td>\n",
       "      <td>NaN</td>\n",
       "      <td>NaN</td>\n",
       "      <td>NaN</td>\n",
       "      <td>NaN</td>\n",
       "      <td>6.4799</td>\n",
       "    </tr>\n",
       "    <tr>\n",
       "      <th>201912</th>\n",
       "      <td>2.9065</td>\n",
       "      <td>1.6501</td>\n",
       "      <td>17.1392</td>\n",
       "      <td>NaN</td>\n",
       "      <td>-0.0762</td>\n",
       "      <td>-0.8681</td>\n",
       "      <td>NaN</td>\n",
       "      <td>NaN</td>\n",
       "      <td>3.4592</td>\n",
       "      <td>3.6380</td>\n",
       "      <td>...</td>\n",
       "      <td>NaN</td>\n",
       "      <td>-0.0589</td>\n",
       "      <td>0.7907</td>\n",
       "      <td>1.8373</td>\n",
       "      <td>4.0154</td>\n",
       "      <td>NaN</td>\n",
       "      <td>NaN</td>\n",
       "      <td>NaN</td>\n",
       "      <td>NaN</td>\n",
       "      <td>7.4886</td>\n",
       "    </tr>\n",
       "  </tbody>\n",
       "</table>\n",
       "<p>600 rows × 469 columns</p>\n",
       "</div>"
      ],
      "text/plain": [
       "gvkey    1075    1078     1161     1177     1209     1300     1356    1408    \\\n",
       "197001  -8.0936 -4.2157      NaN  -9.0323 -11.3923  -3.5897  -8.5965 -8.3916   \n",
       "197002  14.1935  3.5959      NaN  16.3121  19.2641   1.2766  13.1670  1.6031   \n",
       "197003  -1.6949 -3.1405      NaN  11.2195   6.7278   1.0638  -3.5836  1.9084   \n",
       "197004  -6.2299 -5.4266      NaN -11.6022  -6.0171 -13.6842  -8.4956  2.2472   \n",
       "197005  -5.5901 -9.7826      NaN  -8.1250  -9.7561  -2.1951 -16.9053  1.5385   \n",
       "...         ...     ...      ...      ...      ...      ...      ...     ...   \n",
       "201908   4.4837 -2.0436   3.2841      NaN  -1.0295  -4.0705      NaN     NaN   \n",
       "201909   1.8466 -1.9339  -7.8219      NaN  -1.2836   2.7822      NaN     NaN   \n",
       "201910  -3.0390  0.3107  17.0404      NaN  -3.8763   2.0863      NaN     NaN   \n",
       "201911  -6.3191  2.2007  15.3846      NaN  10.8178   3.8905      NaN     NaN   \n",
       "201912   2.9065  1.6501  17.1392      NaN  -0.0762  -0.8681      NaN     NaN   \n",
       "\n",
       "gvkey    1440    1447    ...  176404   177376   178310  179534   179621  \\\n",
       "197001  -7.8838     NaN  ...     NaN      NaN      NaN     NaN      NaN   \n",
       "197002  10.0360     NaN  ...     NaN      NaN      NaN     NaN      NaN   \n",
       "197003   3.3195     NaN  ...     NaN      NaN      NaN     NaN      NaN   \n",
       "197004  -9.6386     NaN  ...     NaN      NaN      NaN     NaN      NaN   \n",
       "197005  -4.3200     NaN  ...     NaN      NaN      NaN     NaN      NaN   \n",
       "...         ...     ...  ...     ...      ...      ...     ...      ...   \n",
       "201908   4.5667 -3.2162  ...     NaN -10.3967 -15.7018  1.7247 -13.7783   \n",
       "201909   2.7866 -1.7363  ...     NaN   1.4005   0.4211 -4.8722   6.9496   \n",
       "201910   0.7471 -0.4819  ...     NaN  -1.0236  -3.4516  3.9823   7.2567   \n",
       "201911  -2.4791  2.4216  ...     NaN   6.2921 -11.2596  3.3266   1.8296   \n",
       "201912   3.4592  3.6380  ...     NaN  -0.0589   0.7907  1.8373   4.0154   \n",
       "\n",
       "gvkey   179700  180167  180833  183257  260774  \n",
       "197001     NaN     NaN     NaN     NaN     NaN  \n",
       "197002     NaN     NaN     NaN     NaN     NaN  \n",
       "197003     NaN     NaN     NaN     NaN     NaN  \n",
       "197004     NaN     NaN     NaN     NaN     NaN  \n",
       "197005     NaN     NaN     NaN     NaN     NaN  \n",
       "...        ...     ...     ...     ...     ...  \n",
       "201908     NaN     NaN     NaN     NaN -1.3960  \n",
       "201909     NaN     NaN     NaN     NaN  1.4157  \n",
       "201910     NaN     NaN     NaN     NaN  1.0187  \n",
       "201911     NaN     NaN     NaN     NaN  6.4799  \n",
       "201912     NaN     NaN     NaN     NaN  7.4886  \n",
       "\n",
       "[600 rows x 469 columns]"
      ]
     },
     "execution_count": 14,
     "metadata": {},
     "output_type": "execute_result"
    }
   ],
   "source": [
    "Returns = Factor_RET[0]\n",
    "for i in Factor_RET[1:]:\n",
    "    Returns = pd.concat([Returns,i],axis=1)\n",
    "\n",
    "Returns.columns = Date_unique\n",
    "Returns = Returns.T\n",
    "Returns = Returns[sp_members.to_numpy()]      #filter out the non-sp members\n",
    "Returns"
   ]
  },
  {
   "cell_type": "code",
   "execution_count": 15,
   "metadata": {},
   "outputs": [],
   "source": [
    "#separate the data to two portions, insample and out of sample\n",
    "IS_return = Returns.loc[197001:201012]\n",
    "OS_return = Returns.loc[201101:201912]"
   ]
  },
  {
   "cell_type": "code",
   "execution_count": 16,
   "metadata": {
    "scrolled": true
   },
   "outputs": [
    {
     "name": "stdout",
     "output_type": "stream",
     "text": [
      "[10247, 4108, 14359, 10277, 2086, 4145, 8245, 8247, 8253, 28733, 2111, 20548, 6216, 8264, 8272, 2136, 10332, 16478, 12389, 4199, 2154, 8304, 4213, 6266, 6268, 2184, 14477, 24731, 6304, 6307, 10405, 8358, 12485, 8402, 10453, 2269, 24800, 4321, 10466, 6375, 2285, 12540, 8446, 28930, 10499, 8455, 2312, 24856, 8479, 10530, 6435, 20779, 24893, 4423, 16721, 8530, 8539, 12635, 24925, 8543, 2403, 29028, 8549, 6502, 10614, 2435, 10631, 4494, 4503, 8606, 4517, 12726, 4560, 12756, 29150, 25056, 14824, 2547, 12788, 29173, 4598, 8694, 6649, 6653, 4611, 6669, 2574, 8717, 4640, 25124, 10793, 12850, 29241, 8762, 4674, 6730, 6733, 6742, 4699, 2663, 8810, 14960, 4723, 10867, 8823, 6781, 4737, 6788, 12950, 2710, 10903, 6829, 2751, 25279, 25283, 29389, 29392, 4818, 4839, 10983, 25338, 25340, 8972, 25356, 4885, 11060, 2884, 13125, 25434, 9063, 7017, 4988, 4990, 2968, 7065, 7085, 2991, 5046, 3024, 11220, 11228, 7146, 7154, 9203, 3062, 11259, 7163, 11264, 7171, 5125, 13341, 9248, 3107, 11300, 9258, 3121, 1075, 1078, 7228, 3144, 7241, 9299, 7257, 7260, 29791, 3170, 5234, 11399, 5256, 1161, 27786, 3221, 1177, 3226, 9372, 3231, 15521, 3243, 7343, 29875, 11446, 1209, 13498, 11456, 27845, 7366, 11465, 9445, 3310, 11506, 23809, 3336, 7435, 29968, 1300, 25880, 27928, 13599, 29984, 3362, 11555, 27965, 5439, 1356, 13646, 3413, 15708, 15709, 11636, 13700, 5518, 13714, 11672, 1440, 7585, 1447, 5543, 1449, 11687, 23978, 3505, 5568, 9667, 7620, 3532, 1487, 7637, 5597, 7647, 9699, 5606, 15855, 28180, 28195, 5680, 9777, 9778, 9783, 1602, 3650, 7750, 5709, 11856, 5723, 1632, 5742, 9846, 9850, 1661, 1678, 11923, 24216, 1690, 5786, 9882, 13988, 1704, 9899, 9904, 28349, 7875, 7881, 7906, 3813, 7912, 7922, 7923, 5878, 3835, 12053, 10016, 7970, 7974, 7977, 7982, 7985, 10035, 22325, 28477, 3905, 8007, 1878, 12123, 12124, 8030, 1891, 12138, 12141, 12142, 10096, 16245, 6008, 1913, 1920, 10115, 8068, 10121, 3980, 14225, 24468, 8099, 6066, 1976, 12216, 4029, 6078, 1988, 4040, 10187, 10190, 6097, 6104, 4058, 4060, 4066, 2019, 14324, 4087, 6136, 2044, 4093, 4094]\n"
     ]
    }
   ],
   "source": [
    "#apply the required filters\n",
    "set1 = []\n",
    "for i in IS_return.columns:\n",
    "    if IS_return[i].count() >= 200:\n",
    "        set1.append(i)\n",
    "\n",
    "set2 = []\n",
    "for i in OS_return.columns:\n",
    "    if OS_return[i].count() >= 50:\n",
    "        set2.append(i)\n",
    "\n",
    "final_list = list(set(set1).intersection(set2))\n",
    "print(final_list)"
   ]
  },
  {
   "cell_type": "code",
   "execution_count": 17,
   "metadata": {},
   "outputs": [
    {
     "data": {
      "text/html": [
       "<div>\n",
       "<style scoped>\n",
       "    .dataframe tbody tr th:only-of-type {\n",
       "        vertical-align: middle;\n",
       "    }\n",
       "\n",
       "    .dataframe tbody tr th {\n",
       "        vertical-align: top;\n",
       "    }\n",
       "\n",
       "    .dataframe thead th {\n",
       "        text-align: right;\n",
       "    }\n",
       "</style>\n",
       "<table border=\"1\" class=\"dataframe\">\n",
       "  <thead>\n",
       "    <tr style=\"text-align: right;\">\n",
       "      <th>gvkey</th>\n",
       "      <th>10247</th>\n",
       "      <th>4108</th>\n",
       "      <th>14359</th>\n",
       "      <th>10277</th>\n",
       "      <th>2086</th>\n",
       "      <th>4145</th>\n",
       "      <th>8245</th>\n",
       "      <th>8247</th>\n",
       "      <th>8253</th>\n",
       "      <th>28733</th>\n",
       "      <th>...</th>\n",
       "      <th>4058</th>\n",
       "      <th>4060</th>\n",
       "      <th>4066</th>\n",
       "      <th>2019</th>\n",
       "      <th>14324</th>\n",
       "      <th>4087</th>\n",
       "      <th>6136</th>\n",
       "      <th>2044</th>\n",
       "      <th>4093</th>\n",
       "      <th>4094</th>\n",
       "    </tr>\n",
       "  </thead>\n",
       "  <tbody>\n",
       "    <tr>\n",
       "      <th>197001</th>\n",
       "      <td>NaN</td>\n",
       "      <td>NaN</td>\n",
       "      <td>NaN</td>\n",
       "      <td>1.9130</td>\n",
       "      <td>0.8439</td>\n",
       "      <td>-18.1319</td>\n",
       "      <td>NaN</td>\n",
       "      <td>-14.0845</td>\n",
       "      <td>NaN</td>\n",
       "      <td>NaN</td>\n",
       "      <td>...</td>\n",
       "      <td>-10.2639</td>\n",
       "      <td>-2.0036</td>\n",
       "      <td>NaN</td>\n",
       "      <td>-4.1667</td>\n",
       "      <td>NaN</td>\n",
       "      <td>-7.6190</td>\n",
       "      <td>NaN</td>\n",
       "      <td>-15.9472</td>\n",
       "      <td>-11.0169</td>\n",
       "      <td>-0.8547</td>\n",
       "    </tr>\n",
       "    <tr>\n",
       "      <th>197002</th>\n",
       "      <td>NaN</td>\n",
       "      <td>NaN</td>\n",
       "      <td>NaN</td>\n",
       "      <td>0.0000</td>\n",
       "      <td>10.0418</td>\n",
       "      <td>0.6711</td>\n",
       "      <td>NaN</td>\n",
       "      <td>10.9836</td>\n",
       "      <td>NaN</td>\n",
       "      <td>NaN</td>\n",
       "      <td>...</td>\n",
       "      <td>5.6863</td>\n",
       "      <td>4.8327</td>\n",
       "      <td>NaN</td>\n",
       "      <td>17.0329</td>\n",
       "      <td>NaN</td>\n",
       "      <td>2.3196</td>\n",
       "      <td>NaN</td>\n",
       "      <td>9.9999</td>\n",
       "      <td>0.3810</td>\n",
       "      <td>-4.0517</td>\n",
       "    </tr>\n",
       "    <tr>\n",
       "      <th>197003</th>\n",
       "      <td>NaN</td>\n",
       "      <td>NaN</td>\n",
       "      <td>NaN</td>\n",
       "      <td>4.3011</td>\n",
       "      <td>-4.1065</td>\n",
       "      <td>-20.0000</td>\n",
       "      <td>NaN</td>\n",
       "      <td>-8.9552</td>\n",
       "      <td>NaN</td>\n",
       "      <td>NaN</td>\n",
       "      <td>...</td>\n",
       "      <td>1.8634</td>\n",
       "      <td>2.8724</td>\n",
       "      <td>NaN</td>\n",
       "      <td>-7.5117</td>\n",
       "      <td>NaN</td>\n",
       "      <td>-1.0204</td>\n",
       "      <td>NaN</td>\n",
       "      <td>4.1559</td>\n",
       "      <td>2.4038</td>\n",
       "      <td>-4.2889</td>\n",
       "    </tr>\n",
       "    <tr>\n",
       "      <th>197004</th>\n",
       "      <td>NaN</td>\n",
       "      <td>NaN</td>\n",
       "      <td>NaN</td>\n",
       "      <td>-10.5155</td>\n",
       "      <td>-14.2857</td>\n",
       "      <td>-18.8333</td>\n",
       "      <td>NaN</td>\n",
       "      <td>-7.7869</td>\n",
       "      <td>NaN</td>\n",
       "      <td>NaN</td>\n",
       "      <td>...</td>\n",
       "      <td>0.0000</td>\n",
       "      <td>-8.0000</td>\n",
       "      <td>NaN</td>\n",
       "      <td>-9.1370</td>\n",
       "      <td>NaN</td>\n",
       "      <td>12.3711</td>\n",
       "      <td>NaN</td>\n",
       "      <td>-13.8404</td>\n",
       "      <td>-9.3897</td>\n",
       "      <td>-14.8585</td>\n",
       "    </tr>\n",
       "    <tr>\n",
       "      <th>197005</th>\n",
       "      <td>NaN</td>\n",
       "      <td>NaN</td>\n",
       "      <td>NaN</td>\n",
       "      <td>-10.4651</td>\n",
       "      <td>-4.1667</td>\n",
       "      <td>-3.0928</td>\n",
       "      <td>NaN</td>\n",
       "      <td>-5.4222</td>\n",
       "      <td>NaN</td>\n",
       "      <td>NaN</td>\n",
       "      <td>...</td>\n",
       "      <td>-19.3902</td>\n",
       "      <td>-5.8601</td>\n",
       "      <td>NaN</td>\n",
       "      <td>-2.8248</td>\n",
       "      <td>NaN</td>\n",
       "      <td>7.5688</td>\n",
       "      <td>NaN</td>\n",
       "      <td>-17.3913</td>\n",
       "      <td>-2.6943</td>\n",
       "      <td>1.4958</td>\n",
       "    </tr>\n",
       "  </tbody>\n",
       "</table>\n",
       "<p>5 rows × 322 columns</p>\n",
       "</div>"
      ],
      "text/plain": [
       "gvkey   10247  4108   14359    10277    2086     4145   8245     8247   8253   \\\n",
       "197001    NaN    NaN    NaN   1.9130   0.8439 -18.1319    NaN -14.0845    NaN   \n",
       "197002    NaN    NaN    NaN   0.0000  10.0418   0.6711    NaN  10.9836    NaN   \n",
       "197003    NaN    NaN    NaN   4.3011  -4.1065 -20.0000    NaN  -8.9552    NaN   \n",
       "197004    NaN    NaN    NaN -10.5155 -14.2857 -18.8333    NaN  -7.7869    NaN   \n",
       "197005    NaN    NaN    NaN -10.4651  -4.1667  -3.0928    NaN  -5.4222    NaN   \n",
       "\n",
       "gvkey   28733  ...    4058    4060   4066     2019   14324    4087   6136   \\\n",
       "197001    NaN  ... -10.2639 -2.0036    NaN  -4.1667    NaN  -7.6190    NaN   \n",
       "197002    NaN  ...   5.6863  4.8327    NaN  17.0329    NaN   2.3196    NaN   \n",
       "197003    NaN  ...   1.8634  2.8724    NaN  -7.5117    NaN  -1.0204    NaN   \n",
       "197004    NaN  ...   0.0000 -8.0000    NaN  -9.1370    NaN  12.3711    NaN   \n",
       "197005    NaN  ... -19.3902 -5.8601    NaN  -2.8248    NaN   7.5688    NaN   \n",
       "\n",
       "gvkey     2044     4093     4094   \n",
       "197001 -15.9472 -11.0169  -0.8547  \n",
       "197002   9.9999   0.3810  -4.0517  \n",
       "197003   4.1559   2.4038  -4.2889  \n",
       "197004 -13.8404  -9.3897 -14.8585  \n",
       "197005 -17.3913  -2.6943   1.4958  \n",
       "\n",
       "[5 rows x 322 columns]"
      ]
     },
     "execution_count": 17,
     "metadata": {},
     "output_type": "execute_result"
    }
   ],
   "source": [
    "Returns = Returns[final_list]\n",
    "IS_return = IS_return[final_list]\n",
    "OS_return = OS_return[final_list]\n",
    "\n",
    "IS_return.head()"
   ]
  },
  {
   "cell_type": "code",
   "execution_count": 18,
   "metadata": {},
   "outputs": [],
   "source": [
    "#calculate the insample and out of sample covariance matrices\n",
    "IS_cov = IS_return.cov().to_numpy()\n",
    "OS_cov = OS_return.cov().to_numpy()"
   ]
  },
  {
   "cell_type": "markdown",
   "metadata": {},
   "source": [
    "**Extract the HL1M factor matrix**"
   ]
  },
  {
   "cell_type": "code",
   "execution_count": 19,
   "metadata": {},
   "outputs": [],
   "source": [
    "HL1M_Factor_Sort=HL1M_Factor_Sort[1:]\n",
    "for i in HL1M_Factor_Sort:\n",
    "    i.set_index('gvkey',inplace=True)"
   ]
  },
  {
   "cell_type": "code",
   "execution_count": 20,
   "metadata": {},
   "outputs": [
    {
     "data": {
      "text/html": [
       "<div>\n",
       "<style scoped>\n",
       "    .dataframe tbody tr th:only-of-type {\n",
       "        vertical-align: middle;\n",
       "    }\n",
       "\n",
       "    .dataframe tbody tr th {\n",
       "        vertical-align: top;\n",
       "    }\n",
       "\n",
       "    .dataframe thead th {\n",
       "        text-align: right;\n",
       "    }\n",
       "</style>\n",
       "<table border=\"1\" class=\"dataframe\">\n",
       "  <thead>\n",
       "    <tr style=\"text-align: right;\">\n",
       "      <th>gvkey</th>\n",
       "      <th>10247</th>\n",
       "      <th>4108</th>\n",
       "      <th>14359</th>\n",
       "      <th>10277</th>\n",
       "      <th>2086</th>\n",
       "      <th>4145</th>\n",
       "      <th>8245</th>\n",
       "      <th>8247</th>\n",
       "      <th>8253</th>\n",
       "      <th>28733</th>\n",
       "      <th>...</th>\n",
       "      <th>4058</th>\n",
       "      <th>4060</th>\n",
       "      <th>4066</th>\n",
       "      <th>2019</th>\n",
       "      <th>14324</th>\n",
       "      <th>4087</th>\n",
       "      <th>6136</th>\n",
       "      <th>2044</th>\n",
       "      <th>4093</th>\n",
       "      <th>4094</th>\n",
       "    </tr>\n",
       "  </thead>\n",
       "  <tbody>\n",
       "    <tr>\n",
       "      <th>197002</th>\n",
       "      <td>NaN</td>\n",
       "      <td>NaN</td>\n",
       "      <td>NaN</td>\n",
       "      <td>NaN</td>\n",
       "      <td>NaN</td>\n",
       "      <td>NaN</td>\n",
       "      <td>NaN</td>\n",
       "      <td>13.500000</td>\n",
       "      <td>NaN</td>\n",
       "      <td>NaN</td>\n",
       "      <td>...</td>\n",
       "      <td>NaN</td>\n",
       "      <td>inf</td>\n",
       "      <td>NaN</td>\n",
       "      <td>NaN</td>\n",
       "      <td>NaN</td>\n",
       "      <td>15.666533</td>\n",
       "      <td>NaN</td>\n",
       "      <td>NaN</td>\n",
       "      <td>NaN</td>\n",
       "      <td>NaN</td>\n",
       "    </tr>\n",
       "    <tr>\n",
       "      <th>197003</th>\n",
       "      <td>NaN</td>\n",
       "      <td>NaN</td>\n",
       "      <td>NaN</td>\n",
       "      <td>NaN</td>\n",
       "      <td>NaN</td>\n",
       "      <td>NaN</td>\n",
       "      <td>NaN</td>\n",
       "      <td>0.083333</td>\n",
       "      <td>NaN</td>\n",
       "      <td>NaN</td>\n",
       "      <td>...</td>\n",
       "      <td>NaN</td>\n",
       "      <td>0.000000</td>\n",
       "      <td>NaN</td>\n",
       "      <td>NaN</td>\n",
       "      <td>NaN</td>\n",
       "      <td>0.340909</td>\n",
       "      <td>NaN</td>\n",
       "      <td>NaN</td>\n",
       "      <td>NaN</td>\n",
       "      <td>NaN</td>\n",
       "    </tr>\n",
       "    <tr>\n",
       "      <th>197004</th>\n",
       "      <td>NaN</td>\n",
       "      <td>NaN</td>\n",
       "      <td>NaN</td>\n",
       "      <td>NaN</td>\n",
       "      <td>NaN</td>\n",
       "      <td>NaN</td>\n",
       "      <td>NaN</td>\n",
       "      <td>1.350000</td>\n",
       "      <td>NaN</td>\n",
       "      <td>NaN</td>\n",
       "      <td>...</td>\n",
       "      <td>NaN</td>\n",
       "      <td>0.941085</td>\n",
       "      <td>NaN</td>\n",
       "      <td>NaN</td>\n",
       "      <td>NaN</td>\n",
       "      <td>2.071253</td>\n",
       "      <td>NaN</td>\n",
       "      <td>NaN</td>\n",
       "      <td>NaN</td>\n",
       "      <td>NaN</td>\n",
       "    </tr>\n",
       "    <tr>\n",
       "      <th>197005</th>\n",
       "      <td>NaN</td>\n",
       "      <td>NaN</td>\n",
       "      <td>NaN</td>\n",
       "      <td>NaN</td>\n",
       "      <td>NaN</td>\n",
       "      <td>NaN</td>\n",
       "      <td>NaN</td>\n",
       "      <td>3.444444</td>\n",
       "      <td>NaN</td>\n",
       "      <td>NaN</td>\n",
       "      <td>...</td>\n",
       "      <td>NaN</td>\n",
       "      <td>5.299496</td>\n",
       "      <td>NaN</td>\n",
       "      <td>NaN</td>\n",
       "      <td>NaN</td>\n",
       "      <td>0.378944</td>\n",
       "      <td>NaN</td>\n",
       "      <td>NaN</td>\n",
       "      <td>NaN</td>\n",
       "      <td>NaN</td>\n",
       "    </tr>\n",
       "    <tr>\n",
       "      <th>197006</th>\n",
       "      <td>NaN</td>\n",
       "      <td>NaN</td>\n",
       "      <td>NaN</td>\n",
       "      <td>NaN</td>\n",
       "      <td>NaN</td>\n",
       "      <td>NaN</td>\n",
       "      <td>NaN</td>\n",
       "      <td>1.062500</td>\n",
       "      <td>NaN</td>\n",
       "      <td>NaN</td>\n",
       "      <td>...</td>\n",
       "      <td>NaN</td>\n",
       "      <td>1.172474</td>\n",
       "      <td>NaN</td>\n",
       "      <td>NaN</td>\n",
       "      <td>NaN</td>\n",
       "      <td>0.000000</td>\n",
       "      <td>NaN</td>\n",
       "      <td>NaN</td>\n",
       "      <td>NaN</td>\n",
       "      <td>NaN</td>\n",
       "    </tr>\n",
       "    <tr>\n",
       "      <th>...</th>\n",
       "      <td>...</td>\n",
       "      <td>...</td>\n",
       "      <td>...</td>\n",
       "      <td>...</td>\n",
       "      <td>...</td>\n",
       "      <td>...</td>\n",
       "      <td>...</td>\n",
       "      <td>...</td>\n",
       "      <td>...</td>\n",
       "      <td>...</td>\n",
       "      <td>...</td>\n",
       "      <td>...</td>\n",
       "      <td>...</td>\n",
       "      <td>...</td>\n",
       "      <td>...</td>\n",
       "      <td>...</td>\n",
       "      <td>...</td>\n",
       "      <td>...</td>\n",
       "      <td>...</td>\n",
       "      <td>...</td>\n",
       "      <td>...</td>\n",
       "    </tr>\n",
       "    <tr>\n",
       "      <th>201908</th>\n",
       "      <td>6.720588</td>\n",
       "      <td>9.875000</td>\n",
       "      <td>3.062857</td>\n",
       "      <td>NaN</td>\n",
       "      <td>0.853639</td>\n",
       "      <td>9.275862</td>\n",
       "      <td>0.279897</td>\n",
       "      <td>0.716277</td>\n",
       "      <td>0.866242</td>\n",
       "      <td>0.736453</td>\n",
       "      <td>...</td>\n",
       "      <td>2.144130</td>\n",
       "      <td>1.617940</td>\n",
       "      <td>4.058824</td>\n",
       "      <td>0.164798</td>\n",
       "      <td>NaN</td>\n",
       "      <td>NaN</td>\n",
       "      <td>0.857143</td>\n",
       "      <td>NaN</td>\n",
       "      <td>7.054545</td>\n",
       "      <td>NaN</td>\n",
       "    </tr>\n",
       "    <tr>\n",
       "      <th>201909</th>\n",
       "      <td>0.108609</td>\n",
       "      <td>2.286689</td>\n",
       "      <td>1.457706</td>\n",
       "      <td>NaN</td>\n",
       "      <td>0.078682</td>\n",
       "      <td>1.410180</td>\n",
       "      <td>2.227134</td>\n",
       "      <td>1.552083</td>\n",
       "      <td>1.553936</td>\n",
       "      <td>0.022665</td>\n",
       "      <td>...</td>\n",
       "      <td>0.487256</td>\n",
       "      <td>1.210753</td>\n",
       "      <td>3.377622</td>\n",
       "      <td>3.532468</td>\n",
       "      <td>NaN</td>\n",
       "      <td>NaN</td>\n",
       "      <td>9.687500</td>\n",
       "      <td>NaN</td>\n",
       "      <td>0.094868</td>\n",
       "      <td>NaN</td>\n",
       "    </tr>\n",
       "    <tr>\n",
       "      <th>201910</th>\n",
       "      <td>0.022361</td>\n",
       "      <td>0.530864</td>\n",
       "      <td>3.209677</td>\n",
       "      <td>NaN</td>\n",
       "      <td>0.817276</td>\n",
       "      <td>0.609319</td>\n",
       "      <td>0.140656</td>\n",
       "      <td>0.260460</td>\n",
       "      <td>0.374034</td>\n",
       "      <td>0.280864</td>\n",
       "      <td>...</td>\n",
       "      <td>0.224414</td>\n",
       "      <td>0.520085</td>\n",
       "      <td>1.304217</td>\n",
       "      <td>0.533333</td>\n",
       "      <td>NaN</td>\n",
       "      <td>NaN</td>\n",
       "      <td>0.141026</td>\n",
       "      <td>NaN</td>\n",
       "      <td>0.266289</td>\n",
       "      <td>NaN</td>\n",
       "    </tr>\n",
       "    <tr>\n",
       "      <th>201911</th>\n",
       "      <td>0.011905</td>\n",
       "      <td>0.195195</td>\n",
       "      <td>2.703980</td>\n",
       "      <td>NaN</td>\n",
       "      <td>12.038835</td>\n",
       "      <td>0.283837</td>\n",
       "      <td>0.201800</td>\n",
       "      <td>0.088550</td>\n",
       "      <td>0.159780</td>\n",
       "      <td>0.236702</td>\n",
       "      <td>...</td>\n",
       "      <td>0.121008</td>\n",
       "      <td>1.953947</td>\n",
       "      <td>0.506452</td>\n",
       "      <td>0.083497</td>\n",
       "      <td>NaN</td>\n",
       "      <td>NaN</td>\n",
       "      <td>0.352941</td>\n",
       "      <td>NaN</td>\n",
       "      <td>3.344086</td>\n",
       "      <td>NaN</td>\n",
       "    </tr>\n",
       "    <tr>\n",
       "      <th>201912</th>\n",
       "      <td>0.649038</td>\n",
       "      <td>2.213592</td>\n",
       "      <td>3.408578</td>\n",
       "      <td>NaN</td>\n",
       "      <td>0.182556</td>\n",
       "      <td>0.122476</td>\n",
       "      <td>0.261017</td>\n",
       "      <td>0.532432</td>\n",
       "      <td>0.165725</td>\n",
       "      <td>2.252747</td>\n",
       "      <td>...</td>\n",
       "      <td>0.145658</td>\n",
       "      <td>14.711864</td>\n",
       "      <td>0.444444</td>\n",
       "      <td>0.522167</td>\n",
       "      <td>NaN</td>\n",
       "      <td>NaN</td>\n",
       "      <td>0.890625</td>\n",
       "      <td>NaN</td>\n",
       "      <td>3.524862</td>\n",
       "      <td>NaN</td>\n",
       "    </tr>\n",
       "  </tbody>\n",
       "</table>\n",
       "<p>599 rows × 322 columns</p>\n",
       "</div>"
      ],
      "text/plain": [
       "gvkey      10247     4108      14359  10277      2086      4145      8245   \\\n",
       "197002       NaN       NaN       NaN    NaN        NaN       NaN       NaN   \n",
       "197003       NaN       NaN       NaN    NaN        NaN       NaN       NaN   \n",
       "197004       NaN       NaN       NaN    NaN        NaN       NaN       NaN   \n",
       "197005       NaN       NaN       NaN    NaN        NaN       NaN       NaN   \n",
       "197006       NaN       NaN       NaN    NaN        NaN       NaN       NaN   \n",
       "...          ...       ...       ...    ...        ...       ...       ...   \n",
       "201908  6.720588  9.875000  3.062857    NaN   0.853639  9.275862  0.279897   \n",
       "201909  0.108609  2.286689  1.457706    NaN   0.078682  1.410180  2.227134   \n",
       "201910  0.022361  0.530864  3.209677    NaN   0.817276  0.609319  0.140656   \n",
       "201911  0.011905  0.195195  2.703980    NaN  12.038835  0.283837  0.201800   \n",
       "201912  0.649038  2.213592  3.408578    NaN   0.182556  0.122476  0.261017   \n",
       "\n",
       "gvkey       8247      8253      28733  ...     4058       4060      4066   \\\n",
       "197002  13.500000       NaN       NaN  ...       NaN        inf       NaN   \n",
       "197003   0.083333       NaN       NaN  ...       NaN   0.000000       NaN   \n",
       "197004   1.350000       NaN       NaN  ...       NaN   0.941085       NaN   \n",
       "197005   3.444444       NaN       NaN  ...       NaN   5.299496       NaN   \n",
       "197006   1.062500       NaN       NaN  ...       NaN   1.172474       NaN   \n",
       "...           ...       ...       ...  ...       ...        ...       ...   \n",
       "201908   0.716277  0.866242  0.736453  ...  2.144130   1.617940  4.058824   \n",
       "201909   1.552083  1.553936  0.022665  ...  0.487256   1.210753  3.377622   \n",
       "201910   0.260460  0.374034  0.280864  ...  0.224414   0.520085  1.304217   \n",
       "201911   0.088550  0.159780  0.236702  ...  0.121008   1.953947  0.506452   \n",
       "201912   0.532432  0.165725  2.252747  ...  0.145658  14.711864  0.444444   \n",
       "\n",
       "gvkey      2019   14324      4087      6136   2044      4093   4094   \n",
       "197002       NaN    NaN  15.666533       NaN    NaN       NaN    NaN  \n",
       "197003       NaN    NaN   0.340909       NaN    NaN       NaN    NaN  \n",
       "197004       NaN    NaN   2.071253       NaN    NaN       NaN    NaN  \n",
       "197005       NaN    NaN   0.378944       NaN    NaN       NaN    NaN  \n",
       "197006       NaN    NaN   0.000000       NaN    NaN       NaN    NaN  \n",
       "...          ...    ...        ...       ...    ...       ...    ...  \n",
       "201908  0.164798    NaN        NaN  0.857143    NaN  7.054545    NaN  \n",
       "201909  3.532468    NaN        NaN  9.687500    NaN  0.094868    NaN  \n",
       "201910  0.533333    NaN        NaN  0.141026    NaN  0.266289    NaN  \n",
       "201911  0.083497    NaN        NaN  0.352941    NaN  3.344086    NaN  \n",
       "201912  0.522167    NaN        NaN  0.890625    NaN  3.524862    NaN  \n",
       "\n",
       "[599 rows x 322 columns]"
      ]
     },
     "execution_count": 20,
     "metadata": {},
     "output_type": "execute_result"
    }
   ],
   "source": [
    "HL1M_factor = HL1M_Factor_Sort[0]\n",
    "for i in HL1M_Factor_Sort[1:]:\n",
    "    HL1M_factor = pd.concat([HL1M_factor,i],axis=1)\n",
    "\n",
    "HL1M_factor.columns = Date_unique[1:]\n",
    "HL1M_factor = HL1M_factor.T\n",
    "HL1M_factor = HL1M_factor[final_list]\n",
    "HL1M_factor"
   ]
  },
  {
   "cell_type": "markdown",
   "metadata": {},
   "source": [
    "## Part 2: Portfolio Optimization by Black-Litterman"
   ]
  },
  {
   "cell_type": "code",
   "execution_count": 21,
   "metadata": {},
   "outputs": [],
   "source": [
    "#prepare the market value dataset to calculate w_eq\n",
    "for i in Factor_MV:\n",
    "    i.set_index('gvkey',inplace=True)"
   ]
  },
  {
   "cell_type": "code",
   "execution_count": 22,
   "metadata": {
    "scrolled": true
   },
   "outputs": [
    {
     "name": "stdout",
     "output_type": "stream",
     "text": [
      "gvkey\n",
      "10247    0.003132\n",
      "4108     0.003004\n",
      "14359    0.003060\n",
      "10277    0.002932\n",
      "2086     0.003204\n",
      "           ...   \n",
      "4087     0.003261\n",
      "6136     0.002973\n",
      "2044     0.003039\n",
      "4093     0.003174\n",
      "4094     0.002941\n",
      "Name: MV, Length: 322, dtype: float64\n"
     ]
    }
   ],
   "source": [
    "#create the value weighted portfolio based on dec 2010 data\n",
    "MV_list = Factor_MV[491].T[final_list]\n",
    "total = MV_list.loc['MV'].sum()\n",
    "\n",
    "w_eq = (MV_list.loc['MV']/total)\n",
    "print(w_eq)"
   ]
  },
  {
   "cell_type": "code",
   "execution_count": 23,
   "metadata": {},
   "outputs": [],
   "source": [
    "for i in HL1M_RET_Sort_top[1:]:\n",
    "    i.set_index('gvkey',inplace=True)\n",
    "for i in HL1M_RET_Sort_bottom[1:]:\n",
    "    i.set_index('gvkey',inplace=True)"
   ]
  },
  {
   "cell_type": "code",
   "execution_count": 24,
   "metadata": {},
   "outputs": [],
   "source": [
    "top_companies = HL1M_RET_Sort_top[491].index\n",
    "bottom_companies = HL1M_RET_Sort_bottom[491].index\n",
    "\n",
    "top1 = list(set(top_companies.tolist()).intersection(final_list))\n",
    "topsize=len(top1)\n",
    "bottom1 = list(set(bottom_companies.tolist()).intersection(final_list))\n",
    "bottomsize=len(bottom1)"
   ]
  },
  {
   "cell_type": "code",
   "execution_count": 25,
   "metadata": {},
   "outputs": [],
   "source": [
    "P_df = pd.DataFrame(columns = final_list,index=['P'])\n",
    "\n",
    "for i in top1:\n",
    "    P_df[i] = 1/topsize\n",
    "for i in bottom1:\n",
    "    P_df[i] = -1/bottomsize\n",
    "\n",
    "P_df = P_df.fillna(0)\n",
    "P = P_df.loc['P']"
   ]
  },
  {
   "cell_type": "code",
   "execution_count": 26,
   "metadata": {},
   "outputs": [],
   "source": [
    "def BlackLitterman(tao, delta):\n",
    "    Q = statistics.mean(HL1M_Qspread[1:492])\n",
    "    Omega = statistics.stdev(HL1M_Qspread[1:492]) ** 2\n",
    "    \n",
    "    A = Omega/tao + reduce(np.matmul,[P,IS_cov,P.T]) / (1+tao)\n",
    "    Pi = delta * np.dot(IS_cov,w_eq)\n",
    "    \n",
    "    Lambda = (tao/Omega)*Q/tao - (1/A)*reduce(np.matmul,[P,IS_cov,w_eq]) - ((1/A)*(tao/Omega)*(Q/delta)/(1+tao))*reduce(np.matmul,[P,IS_cov,P.T])\n",
    "    w_opt = (w_eq+P.T*Lambda)/(1+tao)\n",
    "    w_opt = w_opt/sum(w_opt)\n",
    "    \n",
    "    return w_opt"
   ]
  },
  {
   "cell_type": "code",
   "execution_count": 27,
   "metadata": {},
   "outputs": [
    {
     "data": {
      "text/plain": [
       "gvkey\n",
       "10247    0.003132\n",
       "4108     0.003004\n",
       "14359   -0.000207\n",
       "10277    0.002932\n",
       "2086     0.006039\n",
       "           ...   \n",
       "4087     0.003261\n",
       "6136    -0.000295\n",
       "2044     0.003039\n",
       "4093     0.003174\n",
       "4094     0.002941\n",
       "Length: 322, dtype: float64"
      ]
     },
     "execution_count": 27,
     "metadata": {},
     "output_type": "execute_result"
    }
   ],
   "source": [
    "w_opt=BlackLitterman (0.5, 10)\n",
    "w_opt"
   ]
  },
  {
   "cell_type": "markdown",
   "metadata": {},
   "source": [
    "### Question 2.1"
   ]
  },
  {
   "cell_type": "code",
   "execution_count": 28,
   "metadata": {},
   "outputs": [
    {
     "data": {
      "text/plain": [
       "Text(0, 0.5, 'Weight')"
      ]
     },
     "execution_count": 28,
     "metadata": {},
     "output_type": "execute_result"
    },
    {
     "data": {
      "image/png": "[encoded data removed]",
      "text/plain": [
       "<Figure size 1152x576 with 1 Axes>"
      ]
     },
     "metadata": {
      "needs_background": "light"
     },
     "output_type": "display_data"
    }
   ],
   "source": [
    "aa = pd.DataFrame(w_eq)\n",
    "bb = pd.DataFrame(w_opt,columns = ['weight'])\n",
    "x1 = aa.index\n",
    "y1 = aa.MV\n",
    "\n",
    "plt.figure(figsize=(16,8))\n",
    "plt.plot(x1,y1,'x', c='royalblue')\n",
    "plt.title(\"SP500 Weights Before Adjustment\", fontsize=14)\n",
    "plt.xlabel(\"Gvkey\", fontsize=14)\n",
    "plt.ylabel(\"Weight\", fontsize=14)"
   ]
  },
  {
   "cell_type": "code",
   "execution_count": 29,
   "metadata": {},
   "outputs": [
    {
     "data": {
      "text/plain": [
       "Text(0, 0.5, 'Weight')"
      ]
     },
     "execution_count": 29,
     "metadata": {},
     "output_type": "execute_result"
    },
    {
     "data": {
      "image/png": "[encoded data removed]",
      "text/plain": [
       "<Figure size 1152x576 with 1 Axes>"
      ]
     },
     "metadata": {
      "needs_background": "light"
     },
     "output_type": "display_data"
    }
   ],
   "source": [
    "x2 = bb.index\n",
    "y2 = bb.weight\n",
    "\n",
    "plt.figure(figsize=(16,8))\n",
    "plt.plot(x2,y2,'2', c='darkorange')\n",
    "plt.title(\"SP500 Weights After Adjustment\", fontsize=14)\n",
    "plt.xlabel(\"Gvkey\", fontsize=14)\n",
    "plt.ylabel(\"Weight\", fontsize=14)"
   ]
  },
  {
   "cell_type": "markdown",
   "metadata": {},
   "source": [
    "### Question 2.2"
   ]
  },
  {
   "cell_type": "markdown",
   "metadata": {},
   "source": [
    "def mergedate(x):\n",
    "    return dt.datetime.strptime(x, \"%Y%m\")"
   ]
  },
  {
   "cell_type": "code",
   "execution_count": 30,
   "metadata": {
    "scrolled": true
   },
   "outputs": [
    {
     "data": {
      "text/plain": [
       "gvkey\n",
       "10247    0.004877\n",
       "4108     0.005518\n",
       "14359    0.005865\n",
       "10277    0.002756\n",
       "2086     0.003242\n",
       "           ...   \n",
       "4087     0.003340\n",
       "6136     0.004245\n",
       "2044     0.003854\n",
       "4093     0.003163\n",
       "4094     0.003779\n",
       "Length: 322, dtype: float64"
      ]
     },
     "execution_count": 30,
     "metadata": {},
     "output_type": "execute_result"
    }
   ],
   "source": [
    "WRet_B = w_eq*IS_return\n",
    "ExpRet_B = WRet_B.mean(axis =0)\n",
    "ExpRet_B"
   ]
  },
  {
   "cell_type": "code",
   "execution_count": 31,
   "metadata": {
    "scrolled": true
   },
   "outputs": [
    {
     "data": {
      "text/plain": [
       "<function matplotlib.pyplot.show(*args, **kw)>"
      ]
     },
     "execution_count": 31,
     "metadata": {},
     "output_type": "execute_result"
    },
    {
     "data": {
      "image/png": "[encoded data removed]",
      "text/plain": [
       "<Figure size 1152x576 with 1 Axes>"
      ]
     },
     "metadata": {
      "needs_background": "light"
     },
     "output_type": "display_data"
    }
   ],
   "source": [
    "df_B = pd.DataFrame(ExpRet_B)\n",
    "x_B = df_B.index\n",
    "y_B = df_B.values\n",
    "plt.figure(figsize=(16,8))\n",
    "plt.scatter(x_B, y_B, c='royalblue', marker='x')\n",
    "plt.title(\"Portfolio Return Before Applying Black-Litterman\", fontsize=14)\n",
    "plt.xlabel(\"gvkey\", fontsize=14)\n",
    "plt.ylabel(\"Return\", fontsize=14)\n",
    "plt.show"
   ]
  },
  {
   "cell_type": "code",
   "execution_count": 32,
   "metadata": {},
   "outputs": [
    {
     "data": {
      "text/plain": [
       "gvkey\n",
       "10247    0.004877\n",
       "4108     0.005518\n",
       "14359   -0.000397\n",
       "10277    0.002756\n",
       "2086     0.006112\n",
       "           ...   \n",
       "4087     0.003340\n",
       "6136    -0.000421\n",
       "2044     0.003854\n",
       "4093     0.003163\n",
       "4094     0.003779\n",
       "Length: 322, dtype: float64"
      ]
     },
     "execution_count": 32,
     "metadata": {},
     "output_type": "execute_result"
    }
   ],
   "source": [
    "WRet_A = w_opt*IS_return\n",
    "ExpRet_A = WRet_A.mean(axis =0)\n",
    "ExpRet_A"
   ]
  },
  {
   "cell_type": "code",
   "execution_count": 33,
   "metadata": {},
   "outputs": [
    {
     "data": {
      "text/plain": [
       "<function matplotlib.pyplot.show(*args, **kw)>"
      ]
     },
     "execution_count": 33,
     "metadata": {},
     "output_type": "execute_result"
    },
    {
     "data": {
      "image/png": "[encoded data removed]",
      "text/plain": [
       "<Figure size 1152x576 with 1 Axes>"
      ]
     },
     "metadata": {
      "needs_background": "light"
     },
     "output_type": "display_data"
    }
   ],
   "source": [
    "df_A = pd.DataFrame(ExpRet_A)\n",
    "x_A = df_A.index\n",
    "y_A = df_A.values\n",
    "plt.figure(figsize=(16,8))\n",
    "plt.scatter(x_A, y_A, c='darkorange', marker='2')\n",
    "plt.title(\"Portfolio Return After Applying Black-Litterman\", fontsize=14)\n",
    "plt.xlabel(\"gvkey\", fontsize=14)\n",
    "plt.ylabel(\"Return\", fontsize=14)\n",
    "plt.show"
   ]
  },
  {
   "cell_type": "code",
   "execution_count": 34,
   "metadata": {
    "scrolled": true
   },
   "outputs": [
    {
     "data": {
      "image/png": "[encoded data removed]",
      "text/plain": [
       "<Figure size 1152x576 with 1 Axes>"
      ]
     },
     "metadata": {
      "needs_background": "light"
     },
     "output_type": "display_data"
    }
   ],
   "source": [
    "plt.figure(figsize=(16,8))\n",
    "plt.scatter(x_A, y_A, marker='2',c='darkorange', label='BLM') \n",
    "plt.scatter(x_B,y_B, marker='x',c='royalblue', label='before adjustment') \n",
    "plt.title(\"Before vs After Adjustment\", fontsize=14)\n",
    "plt.xlabel('gvkey', fontsize=14)\n",
    "plt.ylabel('Return', fontsize=14)\n",
    "plt.legend(loc='best')\n",
    "plt.show()"
   ]
  },
  {
   "cell_type": "markdown",
   "metadata": {},
   "source": [
    "### Question 2.3"
   ]
  },
  {
   "cell_type": "code",
   "execution_count": 35,
   "metadata": {},
   "outputs": [],
   "source": [
    "#create a matrix for comparison of the weights\n",
    "df_weights = pd.DataFrame(index = ['w_eq','w_opt','diff'],columns=HL1M_factor.columns)\n",
    "df_weights.loc['w_eq']=w_eq\n",
    "df_weights.loc['w_opt']=w_opt\n",
    "df_weights.loc['diff'] = df_weights.loc['w_opt'] - df_weights.loc['w_eq']\n",
    "df_weights.loc['abs_diff'] = abs(df_weights.loc['diff'])"
   ]
  },
  {
   "cell_type": "code",
   "execution_count": 36,
   "metadata": {},
   "outputs": [
    {
     "data": {
      "text/html": [
       "<div>\n",
       "<style scoped>\n",
       "    .dataframe tbody tr th:only-of-type {\n",
       "        vertical-align: middle;\n",
       "    }\n",
       "\n",
       "    .dataframe tbody tr th {\n",
       "        vertical-align: top;\n",
       "    }\n",
       "\n",
       "    .dataframe thead th {\n",
       "        text-align: right;\n",
       "    }\n",
       "</style>\n",
       "<table border=\"1\" class=\"dataframe\">\n",
       "  <thead>\n",
       "    <tr style=\"text-align: right;\">\n",
       "      <th>gvkey</th>\n",
       "      <th>10247</th>\n",
       "      <th>4108</th>\n",
       "      <th>14359</th>\n",
       "      <th>10277</th>\n",
       "      <th>2086</th>\n",
       "      <th>4145</th>\n",
       "      <th>8245</th>\n",
       "      <th>8247</th>\n",
       "      <th>8253</th>\n",
       "      <th>28733</th>\n",
       "      <th>...</th>\n",
       "      <th>4058</th>\n",
       "      <th>4060</th>\n",
       "      <th>4066</th>\n",
       "      <th>2019</th>\n",
       "      <th>14324</th>\n",
       "      <th>4087</th>\n",
       "      <th>6136</th>\n",
       "      <th>2044</th>\n",
       "      <th>4093</th>\n",
       "      <th>4094</th>\n",
       "    </tr>\n",
       "  </thead>\n",
       "  <tbody>\n",
       "    <tr>\n",
       "      <th>w_eq</th>\n",
       "      <td>0.003132</td>\n",
       "      <td>0.003004</td>\n",
       "      <td>0.003060</td>\n",
       "      <td>0.002932</td>\n",
       "      <td>0.003204</td>\n",
       "      <td>0.002902</td>\n",
       "      <td>0.003214</td>\n",
       "      <td>0.003102</td>\n",
       "      <td>0.003158</td>\n",
       "      <td>0.003112</td>\n",
       "      <td>...</td>\n",
       "      <td>0.003072</td>\n",
       "      <td>0.003243</td>\n",
       "      <td>0.003103</td>\n",
       "      <td>0.003236</td>\n",
       "      <td>0.003074</td>\n",
       "      <td>0.003261</td>\n",
       "      <td>0.002973</td>\n",
       "      <td>0.003039</td>\n",
       "      <td>0.003174</td>\n",
       "      <td>0.002941</td>\n",
       "    </tr>\n",
       "    <tr>\n",
       "      <th>w_opt</th>\n",
       "      <td>0.003132</td>\n",
       "      <td>0.003004</td>\n",
       "      <td>-0.000207</td>\n",
       "      <td>0.002932</td>\n",
       "      <td>0.006039</td>\n",
       "      <td>0.005737</td>\n",
       "      <td>0.003214</td>\n",
       "      <td>0.003102</td>\n",
       "      <td>0.003158</td>\n",
       "      <td>-0.000156</td>\n",
       "      <td>...</td>\n",
       "      <td>0.003072</td>\n",
       "      <td>0.003243</td>\n",
       "      <td>0.003103</td>\n",
       "      <td>0.003236</td>\n",
       "      <td>-0.000193</td>\n",
       "      <td>0.003261</td>\n",
       "      <td>-0.000295</td>\n",
       "      <td>0.003039</td>\n",
       "      <td>0.003174</td>\n",
       "      <td>0.002941</td>\n",
       "    </tr>\n",
       "    <tr>\n",
       "      <th>diff</th>\n",
       "      <td>0.000000</td>\n",
       "      <td>0.000000</td>\n",
       "      <td>-0.003267</td>\n",
       "      <td>0.000000</td>\n",
       "      <td>0.002835</td>\n",
       "      <td>0.002835</td>\n",
       "      <td>0.000000</td>\n",
       "      <td>0.000000</td>\n",
       "      <td>0.000000</td>\n",
       "      <td>-0.003267</td>\n",
       "      <td>...</td>\n",
       "      <td>0.000000</td>\n",
       "      <td>0.000000</td>\n",
       "      <td>0.000000</td>\n",
       "      <td>0.000000</td>\n",
       "      <td>-0.003267</td>\n",
       "      <td>0.000000</td>\n",
       "      <td>-0.003267</td>\n",
       "      <td>0.000000</td>\n",
       "      <td>0.000000</td>\n",
       "      <td>0.000000</td>\n",
       "    </tr>\n",
       "    <tr>\n",
       "      <th>abs_diff</th>\n",
       "      <td>0.000000</td>\n",
       "      <td>0.000000</td>\n",
       "      <td>0.003267</td>\n",
       "      <td>0.000000</td>\n",
       "      <td>0.002835</td>\n",
       "      <td>0.002835</td>\n",
       "      <td>0.000000</td>\n",
       "      <td>0.000000</td>\n",
       "      <td>0.000000</td>\n",
       "      <td>0.003267</td>\n",
       "      <td>...</td>\n",
       "      <td>0.000000</td>\n",
       "      <td>0.000000</td>\n",
       "      <td>0.000000</td>\n",
       "      <td>0.000000</td>\n",
       "      <td>0.003267</td>\n",
       "      <td>0.000000</td>\n",
       "      <td>0.003267</td>\n",
       "      <td>0.000000</td>\n",
       "      <td>0.000000</td>\n",
       "      <td>0.000000</td>\n",
       "    </tr>\n",
       "  </tbody>\n",
       "</table>\n",
       "<p>4 rows × 322 columns</p>\n",
       "</div>"
      ],
      "text/plain": [
       "gvkey        10247     4108      14359     10277     2086      4145   \\\n",
       "w_eq      0.003132  0.003004  0.003060  0.002932  0.003204  0.002902   \n",
       "w_opt     0.003132  0.003004 -0.000207  0.002932  0.006039  0.005737   \n",
       "diff      0.000000  0.000000 -0.003267  0.000000  0.002835  0.002835   \n",
       "abs_diff  0.000000  0.000000  0.003267  0.000000  0.002835  0.002835   \n",
       "\n",
       "gvkey        8245      8247      8253      28733  ...     4058      4060   \\\n",
       "w_eq      0.003214  0.003102  0.003158  0.003112  ...  0.003072  0.003243   \n",
       "w_opt     0.003214  0.003102  0.003158 -0.000156  ...  0.003072  0.003243   \n",
       "diff      0.000000  0.000000  0.000000 -0.003267  ...  0.000000  0.000000   \n",
       "abs_diff  0.000000  0.000000  0.000000  0.003267  ...  0.000000  0.000000   \n",
       "\n",
       "gvkey        4066      2019      14324     4087      6136      2044   \\\n",
       "w_eq      0.003103  0.003236  0.003074  0.003261  0.002973  0.003039   \n",
       "w_opt     0.003103  0.003236 -0.000193  0.003261 -0.000295  0.003039   \n",
       "diff      0.000000  0.000000 -0.003267  0.000000 -0.003267  0.000000   \n",
       "abs_diff  0.000000  0.000000  0.003267  0.000000  0.003267  0.000000   \n",
       "\n",
       "gvkey        4093      4094   \n",
       "w_eq      0.003174  0.002941  \n",
       "w_opt     0.003174  0.002941  \n",
       "diff      0.000000  0.000000  \n",
       "abs_diff  0.000000  0.000000  \n",
       "\n",
       "[4 rows x 322 columns]"
      ]
     },
     "execution_count": 36,
     "metadata": {},
     "output_type": "execute_result"
    }
   ],
   "source": [
    "#define a function to clean the small numbers to zero in the final output table\n",
    "def cleanzeros(x):\n",
    "    if abs(x) <= 0.00000001:\n",
    "        return 0\n",
    "    else:\n",
    "        return x\n",
    "df_weights.applymap(cleanzeros)"
   ]
  },
  {
   "cell_type": "code",
   "execution_count": 37,
   "metadata": {},
   "outputs": [
    {
     "data": {
      "text/html": [
       "<div>\n",
       "<style scoped>\n",
       "    .dataframe tbody tr th:only-of-type {\n",
       "        vertical-align: middle;\n",
       "    }\n",
       "\n",
       "    .dataframe tbody tr th {\n",
       "        vertical-align: top;\n",
       "    }\n",
       "\n",
       "    .dataframe thead th {\n",
       "        text-align: right;\n",
       "    }\n",
       "</style>\n",
       "<table border=\"1\" class=\"dataframe\">\n",
       "  <thead>\n",
       "    <tr style=\"text-align: right;\">\n",
       "      <th>gvkey</th>\n",
       "      <th>5518</th>\n",
       "      <th>29150</th>\n",
       "      <th>12788</th>\n",
       "      <th>6649</th>\n",
       "      <th>5709</th>\n",
       "      <th>29241</th>\n",
       "      <th>10466</th>\n",
       "      <th>2710</th>\n",
       "      <th>25880</th>\n",
       "      <th>8304</th>\n",
       "      <th>...</th>\n",
       "      <th>8606</th>\n",
       "      <th>3905</th>\n",
       "      <th>3835</th>\n",
       "      <th>20779</th>\n",
       "      <th>3170</th>\n",
       "      <th>8530</th>\n",
       "      <th>6730</th>\n",
       "      <th>8539</th>\n",
       "      <th>6066</th>\n",
       "      <th>2086</th>\n",
       "    </tr>\n",
       "  </thead>\n",
       "  <tbody>\n",
       "    <tr>\n",
       "      <th>w_eq</th>\n",
       "      <td>0.00300148</td>\n",
       "      <td>0.00298931</td>\n",
       "      <td>0.00290955</td>\n",
       "      <td>0.00291415</td>\n",
       "      <td>0.00300918</td>\n",
       "      <td>0.00290964</td>\n",
       "      <td>0.00288366</td>\n",
       "      <td>0.00295771</td>\n",
       "      <td>0.00293016</td>\n",
       "      <td>0.00298594</td>\n",
       "      <td>...</td>\n",
       "      <td>0.00296576</td>\n",
       "      <td>0.00291563</td>\n",
       "      <td>0.00322684</td>\n",
       "      <td>0.00338216</td>\n",
       "      <td>0.00324028</td>\n",
       "      <td>0.00341108</td>\n",
       "      <td>0.00323931</td>\n",
       "      <td>0.00319475</td>\n",
       "      <td>0.00344595</td>\n",
       "      <td>0.00320361</td>\n",
       "    </tr>\n",
       "    <tr>\n",
       "      <th>w_opt</th>\n",
       "      <td>-0.000266005</td>\n",
       "      <td>-0.000278175</td>\n",
       "      <td>-0.000357936</td>\n",
       "      <td>-0.000353336</td>\n",
       "      <td>-0.0002583</td>\n",
       "      <td>-0.000357842</td>\n",
       "      <td>-0.000383827</td>\n",
       "      <td>-0.000309779</td>\n",
       "      <td>-0.000337321</td>\n",
       "      <td>-0.000281541</td>\n",
       "      <td>...</td>\n",
       "      <td>0.00580079</td>\n",
       "      <td>0.00575065</td>\n",
       "      <td>0.00606186</td>\n",
       "      <td>0.00621718</td>\n",
       "      <td>0.0060753</td>\n",
       "      <td>0.00624611</td>\n",
       "      <td>0.00607433</td>\n",
       "      <td>0.00602978</td>\n",
       "      <td>0.00628097</td>\n",
       "      <td>0.00603864</td>\n",
       "    </tr>\n",
       "    <tr>\n",
       "      <th>diff</th>\n",
       "      <td>-0.00326748</td>\n",
       "      <td>-0.00326748</td>\n",
       "      <td>-0.00326748</td>\n",
       "      <td>-0.00326748</td>\n",
       "      <td>-0.00326748</td>\n",
       "      <td>-0.00326748</td>\n",
       "      <td>-0.00326748</td>\n",
       "      <td>-0.00326748</td>\n",
       "      <td>-0.00326748</td>\n",
       "      <td>-0.00326748</td>\n",
       "      <td>...</td>\n",
       "      <td>0.00283502</td>\n",
       "      <td>0.00283502</td>\n",
       "      <td>0.00283502</td>\n",
       "      <td>0.00283502</td>\n",
       "      <td>0.00283502</td>\n",
       "      <td>0.00283502</td>\n",
       "      <td>0.00283502</td>\n",
       "      <td>0.00283502</td>\n",
       "      <td>0.00283502</td>\n",
       "      <td>0.00283502</td>\n",
       "    </tr>\n",
       "    <tr>\n",
       "      <th>abs_diff</th>\n",
       "      <td>0.00326748</td>\n",
       "      <td>0.00326748</td>\n",
       "      <td>0.00326748</td>\n",
       "      <td>0.00326748</td>\n",
       "      <td>0.00326748</td>\n",
       "      <td>0.00326748</td>\n",
       "      <td>0.00326748</td>\n",
       "      <td>0.00326748</td>\n",
       "      <td>0.00326748</td>\n",
       "      <td>0.00326748</td>\n",
       "      <td>...</td>\n",
       "      <td>0.00283502</td>\n",
       "      <td>0.00283502</td>\n",
       "      <td>0.00283502</td>\n",
       "      <td>0.00283502</td>\n",
       "      <td>0.00283502</td>\n",
       "      <td>0.00283502</td>\n",
       "      <td>0.00283502</td>\n",
       "      <td>0.00283502</td>\n",
       "      <td>0.00283502</td>\n",
       "      <td>0.00283502</td>\n",
       "    </tr>\n",
       "  </tbody>\n",
       "</table>\n",
       "<p>4 rows × 322 columns</p>\n",
       "</div>"
      ],
      "text/plain": [
       "gvkey           5518         29150        12788        6649        5709   \\\n",
       "w_eq       0.00300148   0.00298931   0.00290955   0.00291415  0.00300918   \n",
       "w_opt    -0.000266005 -0.000278175 -0.000357936 -0.000353336  -0.0002583   \n",
       "diff      -0.00326748  -0.00326748  -0.00326748  -0.00326748 -0.00326748   \n",
       "abs_diff   0.00326748   0.00326748   0.00326748   0.00326748  0.00326748   \n",
       "\n",
       "gvkey           29241        10466        2710         25880        8304   \\\n",
       "w_eq       0.00290964   0.00288366   0.00295771   0.00293016   0.00298594   \n",
       "w_opt    -0.000357842 -0.000383827 -0.000309779 -0.000337321 -0.000281541   \n",
       "diff      -0.00326748  -0.00326748  -0.00326748  -0.00326748  -0.00326748   \n",
       "abs_diff   0.00326748   0.00326748   0.00326748   0.00326748   0.00326748   \n",
       "\n",
       "gvkey     ...       8606        3905        3835        20779       3170   \\\n",
       "w_eq      ...  0.00296576  0.00291563  0.00322684  0.00338216  0.00324028   \n",
       "w_opt     ...  0.00580079  0.00575065  0.00606186  0.00621718   0.0060753   \n",
       "diff      ...  0.00283502  0.00283502  0.00283502  0.00283502  0.00283502   \n",
       "abs_diff  ...  0.00283502  0.00283502  0.00283502  0.00283502  0.00283502   \n",
       "\n",
       "gvkey          8530        6730        8539        6066        2086   \n",
       "w_eq      0.00341108  0.00323931  0.00319475  0.00344595  0.00320361  \n",
       "w_opt     0.00624611  0.00607433  0.00602978  0.00628097  0.00603864  \n",
       "diff      0.00283502  0.00283502  0.00283502  0.00283502  0.00283502  \n",
       "abs_diff  0.00283502  0.00283502  0.00283502  0.00283502  0.00283502  \n",
       "\n",
       "[4 rows x 322 columns]"
      ]
     },
     "execution_count": 37,
     "metadata": {},
     "output_type": "execute_result"
    }
   ],
   "source": [
    "sorted_weights = df_weights.sort_values(by='diff',axis=1)       #for calculation of bullish and bearish stocks\n",
    "sorted_weights1 = df_weights.sort_values(by='abs_diff',axis=1) #for calculation of neutral stocks\n",
    "sorted_weights"
   ]
  },
  {
   "cell_type": "code",
   "execution_count": 38,
   "metadata": {},
   "outputs": [],
   "source": [
    "bearish = sorted_weights.iloc[:,0:5].columns.to_list()\n",
    "bullish = sorted_weights.iloc[:,-5:].columns.to_list()\n",
    "neutral = sorted_weights1.iloc[:,0:5].columns.to_list()"
   ]
  },
  {
   "cell_type": "code",
   "execution_count": 39,
   "metadata": {},
   "outputs": [],
   "source": [
    "bear_stocks = pd.DataFrame(index = bearish,columns=['prior weight (%)','views (%)',\n",
    "                                                    'posterior weight (%)','prior expected return (%)',\n",
    "                                                    'posterior expected return (%)'])\n",
    "bull_stocks = pd.DataFrame(index = bullish,columns=['prior weight (%)','views (%)',\n",
    "                                                    'posterior weight (%)','prior expected return (%)',\n",
    "                                                    'posterior expected return (%)'])\n",
    "neutral_stocks = pd.DataFrame(index = neutral,columns=['prior weight (%)','views (%)',\n",
    "                                                    'posterior weight (%)','prior expected return (%)',\n",
    "                                                    'posterior expected return (%)'])"
   ]
  },
  {
   "cell_type": "code",
   "execution_count": 40,
   "metadata": {},
   "outputs": [],
   "source": [
    "bear_stocks['prior weight (%)'] = sorted_weights[bearish].loc['w_eq'] \n",
    "bear_stocks['prior expected return (%)'] = IS_return[bearish].mean()*bear_stocks['prior weight (%)']\n",
    "bear_stocks['views (%)'] = P[bearish]\n",
    "bear_stocks['posterior weight (%)'] = sorted_weights[bearish].loc['w_opt']\n",
    "bear_stocks['posterior expected return (%)'] = IS_return[bearish].mean()*bear_stocks['posterior weight (%)']"
   ]
  },
  {
   "cell_type": "code",
   "execution_count": 41,
   "metadata": {},
   "outputs": [],
   "source": [
    "bull_stocks['prior weight (%)'] = sorted_weights[bullish].loc['w_eq'] \n",
    "bull_stocks['prior expected return (%)'] = IS_return[bullish].mean()*bull_stocks['prior weight (%)']\n",
    "bull_stocks['views (%)'] = P[bullish]\n",
    "bull_stocks['posterior weight (%)'] = sorted_weights[bullish].loc['w_opt']\n",
    "bull_stocks['posterior expected return (%)'] = IS_return[bullish].mean()*bull_stocks['posterior weight (%)']"
   ]
  },
  {
   "cell_type": "code",
   "execution_count": 42,
   "metadata": {},
   "outputs": [],
   "source": [
    "neutral_stocks['prior weight (%)'] = sorted_weights[neutral].loc['w_eq'] \n",
    "neutral_stocks['prior expected return (%)'] = IS_return[neutral].mean()*neutral_stocks['prior weight (%)']\n",
    "neutral_stocks['views (%)'] = P[neutral]\n",
    "neutral_stocks['posterior weight (%)'] = sorted_weights[neutral].loc['w_opt']\n",
    "neutral_stocks['posterior expected return (%)'] = IS_return[neutral].mean()*neutral_stocks['posterior weight (%)']"
   ]
  },
  {
   "cell_type": "code",
   "execution_count": 43,
   "metadata": {},
   "outputs": [],
   "source": [
    "bear_stocks = bear_stocks*100\n",
    "bull_stocks = bull_stocks*100\n",
    "neutral_stocks = neutral_stocks*100"
   ]
  },
  {
   "cell_type": "code",
   "execution_count": 44,
   "metadata": {},
   "outputs": [
    {
     "data": {
      "text/html": [
       "<div>\n",
       "<style scoped>\n",
       "    .dataframe tbody tr th:only-of-type {\n",
       "        vertical-align: middle;\n",
       "    }\n",
       "\n",
       "    .dataframe tbody tr th {\n",
       "        vertical-align: top;\n",
       "    }\n",
       "\n",
       "    .dataframe thead th {\n",
       "        text-align: right;\n",
       "    }\n",
       "</style>\n",
       "<table border=\"1\" class=\"dataframe\">\n",
       "  <thead>\n",
       "    <tr style=\"text-align: right;\">\n",
       "      <th></th>\n",
       "      <th>prior weight (%)</th>\n",
       "      <th>views (%)</th>\n",
       "      <th>posterior weight (%)</th>\n",
       "      <th>prior expected return (%)</th>\n",
       "      <th>posterior expected return (%)</th>\n",
       "    </tr>\n",
       "  </thead>\n",
       "  <tbody>\n",
       "    <tr>\n",
       "      <th>5518</th>\n",
       "      <td>0.300148</td>\n",
       "      <td>-1.694915</td>\n",
       "      <td>-0.0266005</td>\n",
       "      <td>0.610872</td>\n",
       "      <td>-0.0541383</td>\n",
       "    </tr>\n",
       "    <tr>\n",
       "      <th>29150</th>\n",
       "      <td>0.298931</td>\n",
       "      <td>-1.694915</td>\n",
       "      <td>-0.0278175</td>\n",
       "      <td>0.826157</td>\n",
       "      <td>-0.0768794</td>\n",
       "    </tr>\n",
       "    <tr>\n",
       "      <th>12788</th>\n",
       "      <td>0.290955</td>\n",
       "      <td>-1.694915</td>\n",
       "      <td>-0.0357936</td>\n",
       "      <td>0.51026</td>\n",
       "      <td>-0.0627728</td>\n",
       "    </tr>\n",
       "    <tr>\n",
       "      <th>6649</th>\n",
       "      <td>0.291415</td>\n",
       "      <td>-1.694915</td>\n",
       "      <td>-0.0353336</td>\n",
       "      <td>0.432328</td>\n",
       "      <td>-0.052419</td>\n",
       "    </tr>\n",
       "    <tr>\n",
       "      <th>5709</th>\n",
       "      <td>0.300918</td>\n",
       "      <td>-1.694915</td>\n",
       "      <td>-0.02583</td>\n",
       "      <td>0.437124</td>\n",
       "      <td>-0.0375215</td>\n",
       "    </tr>\n",
       "  </tbody>\n",
       "</table>\n",
       "</div>"
      ],
      "text/plain": [
       "      prior weight (%)  views (%) posterior weight (%)  \\\n",
       "5518          0.300148  -1.694915           -0.0266005   \n",
       "29150         0.298931  -1.694915           -0.0278175   \n",
       "12788         0.290955  -1.694915           -0.0357936   \n",
       "6649          0.291415  -1.694915           -0.0353336   \n",
       "5709          0.300918  -1.694915             -0.02583   \n",
       "\n",
       "      prior expected return (%) posterior expected return (%)  \n",
       "5518                   0.610872                    -0.0541383  \n",
       "29150                  0.826157                    -0.0768794  \n",
       "12788                   0.51026                    -0.0627728  \n",
       "6649                   0.432328                     -0.052419  \n",
       "5709                   0.437124                    -0.0375215  "
      ]
     },
     "execution_count": 44,
     "metadata": {},
     "output_type": "execute_result"
    }
   ],
   "source": [
    "bear_stocks"
   ]
  },
  {
   "cell_type": "code",
   "execution_count": 45,
   "metadata": {},
   "outputs": [
    {
     "data": {
      "text/html": [
       "<div>\n",
       "<style scoped>\n",
       "    .dataframe tbody tr th:only-of-type {\n",
       "        vertical-align: middle;\n",
       "    }\n",
       "\n",
       "    .dataframe tbody tr th {\n",
       "        vertical-align: top;\n",
       "    }\n",
       "\n",
       "    .dataframe thead th {\n",
       "        text-align: right;\n",
       "    }\n",
       "</style>\n",
       "<table border=\"1\" class=\"dataframe\">\n",
       "  <thead>\n",
       "    <tr style=\"text-align: right;\">\n",
       "      <th></th>\n",
       "      <th>prior weight (%)</th>\n",
       "      <th>views (%)</th>\n",
       "      <th>posterior weight (%)</th>\n",
       "      <th>prior expected return (%)</th>\n",
       "      <th>posterior expected return (%)</th>\n",
       "    </tr>\n",
       "  </thead>\n",
       "  <tbody>\n",
       "    <tr>\n",
       "      <th>8530</th>\n",
       "      <td>0.341108</td>\n",
       "      <td>1.470588</td>\n",
       "      <td>0.624611</td>\n",
       "      <td>0.390817</td>\n",
       "      <td>0.715634</td>\n",
       "    </tr>\n",
       "    <tr>\n",
       "      <th>6730</th>\n",
       "      <td>0.323931</td>\n",
       "      <td>1.470588</td>\n",
       "      <td>0.607433</td>\n",
       "      <td>0.341836</td>\n",
       "      <td>0.64101</td>\n",
       "    </tr>\n",
       "    <tr>\n",
       "      <th>8539</th>\n",
       "      <td>0.319475</td>\n",
       "      <td>1.470588</td>\n",
       "      <td>0.602978</td>\n",
       "      <td>0.348361</td>\n",
       "      <td>0.657497</td>\n",
       "    </tr>\n",
       "    <tr>\n",
       "      <th>6066</th>\n",
       "      <td>0.344595</td>\n",
       "      <td>1.470588</td>\n",
       "      <td>0.628097</td>\n",
       "      <td>0.31156</td>\n",
       "      <td>0.567883</td>\n",
       "    </tr>\n",
       "    <tr>\n",
       "      <th>2086</th>\n",
       "      <td>0.320361</td>\n",
       "      <td>1.470588</td>\n",
       "      <td>0.603864</td>\n",
       "      <td>0.324249</td>\n",
       "      <td>0.611191</td>\n",
       "    </tr>\n",
       "  </tbody>\n",
       "</table>\n",
       "</div>"
      ],
      "text/plain": [
       "     prior weight (%)  views (%) posterior weight (%)  \\\n",
       "8530         0.341108   1.470588             0.624611   \n",
       "6730         0.323931   1.470588             0.607433   \n",
       "8539         0.319475   1.470588             0.602978   \n",
       "6066         0.344595   1.470588             0.628097   \n",
       "2086         0.320361   1.470588             0.603864   \n",
       "\n",
       "     prior expected return (%) posterior expected return (%)  \n",
       "8530                  0.390817                      0.715634  \n",
       "6730                  0.341836                       0.64101  \n",
       "8539                  0.348361                      0.657497  \n",
       "6066                   0.31156                      0.567883  \n",
       "2086                  0.324249                      0.611191  "
      ]
     },
     "execution_count": 45,
     "metadata": {},
     "output_type": "execute_result"
    }
   ],
   "source": [
    "bull_stocks"
   ]
  },
  {
   "cell_type": "code",
   "execution_count": 46,
   "metadata": {},
   "outputs": [
    {
     "data": {
      "text/html": [
       "<div>\n",
       "<style scoped>\n",
       "    .dataframe tbody tr th:only-of-type {\n",
       "        vertical-align: middle;\n",
       "    }\n",
       "\n",
       "    .dataframe tbody tr th {\n",
       "        vertical-align: top;\n",
       "    }\n",
       "\n",
       "    .dataframe thead th {\n",
       "        text-align: right;\n",
       "    }\n",
       "</style>\n",
       "<table border=\"1\" class=\"dataframe\">\n",
       "  <thead>\n",
       "    <tr style=\"text-align: right;\">\n",
       "      <th></th>\n",
       "      <th>prior weight (%)</th>\n",
       "      <th>views (%)</th>\n",
       "      <th>posterior weight (%)</th>\n",
       "      <th>prior expected return (%)</th>\n",
       "      <th>posterior expected return (%)</th>\n",
       "    </tr>\n",
       "  </thead>\n",
       "  <tbody>\n",
       "    <tr>\n",
       "      <th>29392</th>\n",
       "      <td>0.299349</td>\n",
       "      <td>0.0</td>\n",
       "      <td>0.299349</td>\n",
       "      <td>0.31151</td>\n",
       "      <td>0.31151</td>\n",
       "    </tr>\n",
       "    <tr>\n",
       "      <th>7637</th>\n",
       "      <td>0.300373</td>\n",
       "      <td>0.0</td>\n",
       "      <td>0.300373</td>\n",
       "      <td>0.758975</td>\n",
       "      <td>0.758975</td>\n",
       "    </tr>\n",
       "    <tr>\n",
       "      <th>4423</th>\n",
       "      <td>0.29508</td>\n",
       "      <td>0.0</td>\n",
       "      <td>0.29508</td>\n",
       "      <td>0.397132</td>\n",
       "      <td>0.397132</td>\n",
       "    </tr>\n",
       "    <tr>\n",
       "      <th>28195</th>\n",
       "      <td>0.294706</td>\n",
       "      <td>0.0</td>\n",
       "      <td>0.294706</td>\n",
       "      <td>0.976012</td>\n",
       "      <td>0.976012</td>\n",
       "    </tr>\n",
       "    <tr>\n",
       "      <th>27845</th>\n",
       "      <td>0.300207</td>\n",
       "      <td>0.0</td>\n",
       "      <td>0.300207</td>\n",
       "      <td>0.447081</td>\n",
       "      <td>0.447081</td>\n",
       "    </tr>\n",
       "  </tbody>\n",
       "</table>\n",
       "</div>"
      ],
      "text/plain": [
       "      prior weight (%)  views (%) posterior weight (%)  \\\n",
       "29392         0.299349        0.0             0.299349   \n",
       "7637          0.300373        0.0             0.300373   \n",
       "4423           0.29508        0.0              0.29508   \n",
       "28195         0.294706        0.0             0.294706   \n",
       "27845         0.300207        0.0             0.300207   \n",
       "\n",
       "      prior expected return (%) posterior expected return (%)  \n",
       "29392                   0.31151                       0.31151  \n",
       "7637                   0.758975                      0.758975  \n",
       "4423                   0.397132                      0.397132  \n",
       "28195                  0.976012                      0.976012  \n",
       "27845                  0.447081                      0.447081  "
      ]
     },
     "execution_count": 46,
     "metadata": {},
     "output_type": "execute_result"
    }
   ],
   "source": [
    "neutral_stocks"
   ]
  },
  {
   "cell_type": "markdown",
   "metadata": {},
   "source": [
    "### Question 2.4"
   ]
  },
  {
   "cell_type": "code",
   "execution_count": 47,
   "metadata": {},
   "outputs": [],
   "source": [
    "OS_return = OS_return[final_list]"
   ]
  },
  {
   "cell_type": "code",
   "execution_count": 48,
   "metadata": {},
   "outputs": [],
   "source": [
    "#calculate the portfolio return and standard deviation for the value-weighted S&P 500portfolio \n",
    "def MVport_stats(w_eq,OS_return):\n",
    "    MVport_mean = sum(w_eq*OS_return.mean())\n",
    "    MVport_std = np.sqrt(reduce(np.dot, [w_eq, OS_return.cov(), w_eq.T]))  \n",
    "    return [MVport_mean,MVport_std]"
   ]
  },
  {
   "cell_type": "code",
   "execution_count": 49,
   "metadata": {},
   "outputs": [
    {
     "name": "stdout",
     "output_type": "stream",
     "text": [
      "[1.0615232922436406, 3.720882196824195]\n"
     ]
    }
   ],
   "source": [
    "print(MVport_stats(w_eq,OS_return))"
   ]
  },
  {
   "cell_type": "code",
   "execution_count": 50,
   "metadata": {},
   "outputs": [
    {
     "name": "stdout",
     "output_type": "stream",
     "text": [
      "0.28528806774631543\n"
     ]
    }
   ],
   "source": [
    "#calculate the portfolio sharpe-ratio for the value-weighted S&P 500 portfolio \n",
    "def sharpe_MVport(w_eq):\n",
    "    mu = np.dot(w_eq,OS_return.mean())\n",
    "    S = reduce(np.dot, [w_eq, OS_cov, w_eq.T])\n",
    "    sq=S**0.5\n",
    "    return (mu/sq)\n",
    "print(sharpe_MVport(w_eq))"
   ]
  },
  {
   "cell_type": "code",
   "execution_count": 51,
   "metadata": {},
   "outputs": [],
   "source": [
    "#calculate the portfolio return and standard deviation for the Black-Litterman Portfolio\n",
    "def BLport_stats(w_opt,OS_return):\n",
    "    BLport_mean = sum(w_opt*OS_return.mean())\n",
    "    BLport_std = np.sqrt(reduce(np.dot, [w_opt, OS_return.cov(), w_opt.T]))  \n",
    "    return [BLport_mean,BLport_std]"
   ]
  },
  {
   "cell_type": "code",
   "execution_count": 52,
   "metadata": {},
   "outputs": [
    {
     "name": "stdout",
     "output_type": "stream",
     "text": [
      "[1.0981800499483139, 3.621359212020745]\n"
     ]
    }
   ],
   "source": [
    "print(BLport_stats(w_opt,OS_return))"
   ]
  },
  {
   "cell_type": "code",
   "execution_count": 53,
   "metadata": {},
   "outputs": [
    {
     "name": "stdout",
     "output_type": "stream",
     "text": [
      "0.30325079221719103\n"
     ]
    }
   ],
   "source": [
    "#calculate the portfolio sharpe ratio for the Black-Litterman Portfolio\n",
    "def sharpe_BLport(w_opt):\n",
    "    BL_mu = np.dot(w_opt,OS_return.mean())\n",
    "    BL_S = reduce(np.dot, [w_opt, OS_cov, w_opt.T])\n",
    "    BL_sq=BL_S**0.5\n",
    "    return (BL_mu/BL_sq)\n",
    "print(sharpe_BLport(w_opt))"
   ]
  },
  {
   "cell_type": "code",
   "execution_count": 54,
   "metadata": {},
   "outputs": [],
   "source": [
    "#Create a DataFrame to deliver the output results \n",
    "Comp_table = pd.DataFrame(index=['S&P500','Black-Litterman Updated Portfolio'], \n",
    "                       columns = ['Mean Return','Std.Dev','Sharpe Ratio'])\n",
    "                                                                                                 "
   ]
  },
  {
   "cell_type": "code",
   "execution_count": 55,
   "metadata": {},
   "outputs": [
    {
     "data": {
      "text/html": [
       "<div>\n",
       "<style scoped>\n",
       "    .dataframe tbody tr th:only-of-type {\n",
       "        vertical-align: middle;\n",
       "    }\n",
       "\n",
       "    .dataframe tbody tr th {\n",
       "        vertical-align: top;\n",
       "    }\n",
       "\n",
       "    .dataframe thead th {\n",
       "        text-align: right;\n",
       "    }\n",
       "</style>\n",
       "<table border=\"1\" class=\"dataframe\">\n",
       "  <thead>\n",
       "    <tr style=\"text-align: right;\">\n",
       "      <th></th>\n",
       "      <th>Mean Return</th>\n",
       "      <th>Std.Dev</th>\n",
       "      <th>Sharpe Ratio</th>\n",
       "    </tr>\n",
       "  </thead>\n",
       "  <tbody>\n",
       "    <tr>\n",
       "      <th>S&amp;P500</th>\n",
       "      <td>1.06152</td>\n",
       "      <td>3.72088</td>\n",
       "      <td>0.285288</td>\n",
       "    </tr>\n",
       "    <tr>\n",
       "      <th>Black-Litterman Updated Portfolio</th>\n",
       "      <td>1.09818</td>\n",
       "      <td>3.62136</td>\n",
       "      <td>0.303251</td>\n",
       "    </tr>\n",
       "  </tbody>\n",
       "</table>\n",
       "</div>"
      ],
      "text/plain": [
       "                                  Mean Return  Std.Dev Sharpe Ratio\n",
       "S&P500                                1.06152  3.72088     0.285288\n",
       "Black-Litterman Updated Portfolio     1.09818  3.62136     0.303251"
      ]
     },
     "execution_count": 55,
     "metadata": {},
     "output_type": "execute_result"
    }
   ],
   "source": [
    "#Calculate the portfolio statistics using insample data\n",
    "Comp_table.loc['S&P500']['Mean Return']= MVport_stats(w_eq,OS_return)[0]\n",
    "Comp_table.loc['S&P500']['Std.Dev']= MVport_stats(w_eq,OS_return)[1]\n",
    "Comp_table.loc['S&P500']['Sharpe Ratio']= sharpe_MVport(w_eq)\n",
    "Comp_table.loc['Black-Litterman Updated Portfolio']['Mean Return']= BLport_stats(w_opt,OS_return)[0]\n",
    "Comp_table.loc['Black-Litterman Updated Portfolio']['Std.Dev']= BLport_stats(w_opt,OS_return)[1]\n",
    "Comp_table.loc['Black-Litterman Updated Portfolio']['Sharpe Ratio']= sharpe_BLport(w_opt)\n",
    "Comp_table"
   ]
  },
  {
   "cell_type": "markdown",
   "metadata": {},
   "source": [
    "### Question 2.5"
   ]
  },
  {
   "cell_type": "code",
   "execution_count": 56,
   "metadata": {
    "scrolled": true
   },
   "outputs": [
    {
     "data": {
      "text/plain": [
       "gvkey\n",
       "10247    0.003132\n",
       "4108     0.003004\n",
       "14359    0.001505\n",
       "10277    0.002932\n",
       "2086     0.004553\n",
       "           ...   \n",
       "4087     0.003261\n",
       "6136     0.001418\n",
       "2044     0.003039\n",
       "4093     0.003174\n",
       "4094     0.002941\n",
       "Length: 322, dtype: float64"
      ]
     },
     "metadata": {},
     "output_type": "display_data"
    },
    {
     "data": {
      "text/plain": [
       "gvkey\n",
       "10247    0.003132\n",
       "4108     0.003004\n",
       "14359   -0.000217\n",
       "10277    0.002932\n",
       "2086     0.006047\n",
       "           ...   \n",
       "4087     0.003261\n",
       "6136    -0.000305\n",
       "2044     0.003039\n",
       "4093     0.003174\n",
       "4094     0.002941\n",
       "Length: 322, dtype: float64"
      ]
     },
     "metadata": {},
     "output_type": "display_data"
    }
   ],
   "source": [
    "w_opt2=BlackLitterman(0.01,10)\n",
    "w_opt3=BlackLitterman(0.5,50)\n",
    "display(w_opt2,w_opt3)"
   ]
  },
  {
   "cell_type": "code",
   "execution_count": 57,
   "metadata": {},
   "outputs": [],
   "source": [
    "WRet_g1 = w_opt2*OS_return\n",
    "ExpRet_g1 = WRet_g1.sum(axis =1)\n",
    "\n",
    "WRet_g2 = w_opt3*OS_return\n",
    "ExpRet_g2 = WRet_g2.sum(axis =1)"
   ]
  },
  {
   "cell_type": "code",
   "execution_count": 58,
   "metadata": {},
   "outputs": [
    {
     "data": {
      "text/plain": [
       "201101    2.373545\n",
       "201102    3.485534\n",
       "201103    0.854064\n",
       "201104    3.002115\n",
       "201105   -0.553797\n",
       "            ...   \n",
       "201908   -2.601094\n",
       "201909    3.628186\n",
       "201910    0.735833\n",
       "201911    2.755737\n",
       "201912    3.141096\n",
       "Length: 108, dtype: float64"
      ]
     },
     "execution_count": 58,
     "metadata": {},
     "output_type": "execute_result"
    }
   ],
   "source": [
    "ExpRet_g2"
   ]
  },
  {
   "cell_type": "code",
   "execution_count": 59,
   "metadata": {},
   "outputs": [
    {
     "ename": "NameError",
     "evalue": "name 'mergedate' is not defined",
     "output_type": "error",
     "traceback": [
      "\u001b[1;31m---------------------------------------------------------------------------\u001b[0m",
      "\u001b[1;31mNameError\u001b[0m                                 Traceback (most recent call last)",
      "\u001b[1;32m<ipython-input-59-2231e1e6fcd5>\u001b[0m in \u001b[0;36m<module>\u001b[1;34m\u001b[0m\n\u001b[0;32m      3\u001b[0m \u001b[1;33m\u001b[0m\u001b[0m\n\u001b[0;32m      4\u001b[0m \u001b[0mplt\u001b[0m\u001b[1;33m.\u001b[0m\u001b[0msubplot\u001b[0m\u001b[1;33m(\u001b[0m\u001b[1;36m221\u001b[0m\u001b[1;33m)\u001b[0m\u001b[1;33m\u001b[0m\u001b[1;33m\u001b[0m\u001b[0m\n\u001b[1;32m----> 5\u001b[1;33m \u001b[0mplt\u001b[0m\u001b[1;33m.\u001b[0m\u001b[0mscatter\u001b[0m\u001b[1;33m(\u001b[0m\u001b[0mExpRet_B\u001b[0m\u001b[1;33m.\u001b[0m\u001b[0mindex\u001b[0m\u001b[1;33m.\u001b[0m\u001b[0mmap\u001b[0m\u001b[1;33m(\u001b[0m\u001b[0mstr\u001b[0m\u001b[1;33m)\u001b[0m\u001b[1;33m.\u001b[0m\u001b[0mmap\u001b[0m\u001b[1;33m(\u001b[0m\u001b[0mmergedate\u001b[0m\u001b[1;33m)\u001b[0m\u001b[1;33m,\u001b[0m\u001b[0mExpRet_B\u001b[0m\u001b[1;33m.\u001b[0m\u001b[0mvalues\u001b[0m\u001b[1;33m,\u001b[0m\u001b[0mmarker\u001b[0m\u001b[1;33m=\u001b[0m\u001b[1;34m'x'\u001b[0m\u001b[1;33m,\u001b[0m\u001b[0mc\u001b[0m\u001b[1;33m=\u001b[0m\u001b[1;34m'royalblue'\u001b[0m\u001b[1;33m,\u001b[0m \u001b[0mlabel\u001b[0m\u001b[1;33m=\u001b[0m\u001b[1;34m'before adjustment'\u001b[0m\u001b[1;33m)\u001b[0m\u001b[1;33m\u001b[0m\u001b[1;33m\u001b[0m\u001b[0m\n\u001b[0m\u001b[0;32m      6\u001b[0m \u001b[0mplt\u001b[0m\u001b[1;33m.\u001b[0m\u001b[0mxlabel\u001b[0m\u001b[1;33m(\u001b[0m\u001b[1;34m'Date'\u001b[0m\u001b[1;33m,\u001b[0m \u001b[0mfontsize\u001b[0m\u001b[1;33m=\u001b[0m\u001b[1;36m14\u001b[0m\u001b[1;33m)\u001b[0m\u001b[1;33m\u001b[0m\u001b[1;33m\u001b[0m\u001b[0m\n\u001b[0;32m      7\u001b[0m \u001b[0mplt\u001b[0m\u001b[1;33m.\u001b[0m\u001b[0mylabel\u001b[0m\u001b[1;33m(\u001b[0m\u001b[1;34m'Before Adjustemnt Return'\u001b[0m\u001b[1;33m,\u001b[0m \u001b[0mfontsize\u001b[0m\u001b[1;33m=\u001b[0m\u001b[1;36m14\u001b[0m\u001b[1;33m)\u001b[0m\u001b[1;33m\u001b[0m\u001b[1;33m\u001b[0m\u001b[0m\n",
      "\u001b[1;31mNameError\u001b[0m: name 'mergedate' is not defined"
     ]
    },
    {
     "data": {
      "image/png": "[encoded data removed]",
      "text/plain": [
       "<Figure size 1296x720 with 1 Axes>"
      ]
     },
     "metadata": {
      "needs_background": "light"
     },
     "output_type": "display_data"
    }
   ],
   "source": [
    "plt.figure(figsize=(18,10))\n",
    "plt.suptitle(\"Expected Returns Before and After BL Adjustment\", fontsize=14)\n",
    "\n",
    "plt.subplot(221)  \n",
    "plt.scatter(ExpRet_B.index.map(str).map(mergedate),ExpRet_B.values,marker='x',c='royalblue', label='before adjustment') \n",
    "plt.xlabel('Date', fontsize=14)\n",
    "plt.ylabel('Before Adjustemnt Return', fontsize=14)\n",
    "\n",
    "plt.subplot(222) \n",
    "plt.scatter(ExpRet_A.index.map(str).map(mergedate), ExpRet_A.values,marker='2',c='darkorange', label='BLM1')\n",
    "plt.xlabel('Date', fontsize=14)\n",
    "plt.ylabel(\"τ=0.5 & δ=10 Weights\", fontsize=14)\n",
    "\n",
    "plt.subplot(223) \n",
    "plt.scatter(ExpRet_g1.index.map(str).map(mergedate),ExpRet_g1.values,marker='+',c='lime', label='BLM2')\n",
    "plt.xlabel('Date', fontsize=14)\n",
    "plt.ylabel(\"τ=0.01 & δ=10 Weights\", fontsize=14)\n",
    "\n",
    "plt.subplot(224) \n",
    "plt.scatter(ExpRet_g2.index.map(str).map(mergedate),ExpRet_g2.values,marker='.',c='r', label='BLM3') \n",
    "plt.xlabel('Date', fontsize=14)\n",
    "plt.ylabel(\"τ=0.5 & δ=50 Weights\", fontsize=14)"
   ]
  },
  {
   "cell_type": "code",
   "execution_count": null,
   "metadata": {},
   "outputs": [],
   "source": [
    "plt.figure(figsize=(18,10))\n",
    "plt.suptitle(\"Expected Returns Before and After BL Adjustment\", fontsize=16)\n",
    "\n",
    "plt.subplot(221)  \n",
    "plt.plot(ExpRet_B.index.map(str).map(mergedate),ExpRet_B.values,c='royalblue', label='before adjustment') \n",
    "plt.xlabel('Date', fontsize=14)\n",
    "plt.ylabel('Before Adjustemnt Return', fontsize=14)\n",
    "\n",
    "plt.subplot(222) \n",
    "plt.plot(ExpRet_A.index.map(str).map(mergedate), ExpRet_A.values,c='darkorange', label='BLM1')\n",
    "plt.xlabel('Date', fontsize=14)\n",
    "plt.ylabel(\"τ=0.5 & δ=10 Weights\", fontsize=14)\n",
    "\n",
    "plt.subplot(223) \n",
    "plt.plot(ExpRet_g1.index.map(str).map(mergedate),ExpRet_g1.values,c='lime', label='BLM2')\n",
    "plt.xlabel('Date', fontsize=14)\n",
    "plt.ylabel(\"τ=0.01 & δ=10 Weights\", fontsize=14)\n",
    "\n",
    "plt.subplot(224) \n",
    "plt.plot(ExpRet_g2.index.map(str).map(mergedate),ExpRet_g2.values,c='r', label='BLM3') \n",
    "plt.xlabel('Date', fontsize=14)\n",
    "plt.ylabel(\"τ=0.5 & δ=50 Weights\", fontsize=14)"
   ]
  },
  {
   "cell_type": "code",
   "execution_count": null,
   "metadata": {},
   "outputs": [],
   "source": [
    "plt.figure(figsize=(16,8))\n",
    "plt.title(\"Expected Returns Before and After BL Adjustment\", fontsize=14)\n",
    "plt.scatter(ExpRet_B.index.map(str).map(mergedate),ExpRet_B.values,marker='x',c='royalblue', label='before adjustment') \n",
    "plt.scatter(ExpRet_A.index.map(str).map(mergedate), ExpRet_A.values,marker='2',c='darkorange', label='τ=0.5 & δ=10') \n",
    "plt.scatter(ExpRet_g1.index.map(str).map(mergedate),ExpRet_g1.values,marker='+',c='lime', label='τ=0.01 & δ=10')\n",
    "plt.scatter(ExpRet_g2.index.map(str).map(mergedate),ExpRet_g2.values,marker='.',c='r', label='τ=0.5 & δ=50') \n",
    "plt.xlabel('Date', fontsize=14)\n",
    "plt.ylabel('Return', fontsize=14)\n",
    "plt.legend(loc='best')\n",
    "plt.show()"
   ]
  },
  {
   "cell_type": "code",
   "execution_count": null,
   "metadata": {},
   "outputs": [],
   "source": [
    "tao_2 = pd.DataFrame(w_opt2,columns = ['weight'])\n",
    "x_2 = tao_2.index\n",
    "y_2 = tao_2.weight\n",
    "\n",
    "tao_3 = pd.DataFrame(w_opt3,columns = ['weight'])\n",
    "x_3 = tao_3.index\n",
    "y_3 = tao_3.weight"
   ]
  },
  {
   "cell_type": "code",
   "execution_count": null,
   "metadata": {},
   "outputs": [],
   "source": [
    "plt.figure(figsize=(18,10))\n",
    "plt.suptitle(\"Sensitivity analysis to the inputs of τ and δ\", fontsize=16)\n",
    "\n",
    "plt.subplot(221)  \n",
    "plt.plot(x1,y1,'x', c='royalblue')\n",
    "plt.xlabel(\"Gvkey\", fontsize=14)\n",
    "plt.ylabel(\"Equal Weights\", fontsize=14)\n",
    "\n",
    "plt.subplot(222)  \n",
    "plt.plot(x2,y2,'2', c='darkorange')\n",
    "plt.xlabel(\"Gvkey\")\n",
    "plt.ylabel(\"τ=0.5 & δ=10 Weights\", fontsize=14)\n",
    "\n",
    "\n",
    "plt.subplot(223)  \n",
    "plt.plot(x_2,y_2,'.',c='lime')\n",
    "plt.xlabel(\"Gvkey\", fontsize=14)\n",
    "plt.ylabel(\"τ=0.01 & δ=10 Weights\", fontsize=14)\n",
    "\n",
    "plt.subplot(224)  \n",
    "plt.plot(x_3,y_3,'+',c='r')\n",
    "plt.xlabel(\"Gvkey\", fontsize=14)\n",
    "plt.ylabel(\"τ=0.5 & δ=50 Weights\", fontsize=14)"
   ]
  },
  {
   "cell_type": "code",
   "execution_count": null,
   "metadata": {},
   "outputs": [],
   "source": []
  }
 ],
 "metadata": {
  "kernelspec": {
   "display_name": "Python 3",
   "language": "python",
   "name": "python3"
  },
  "language_info": {
   "codemirror_mode": {
    "name": "ipython",
    "version": 3
   },
   "file_extension": ".py",
   "mimetype": "text/x-python",
   "name": "python",
   "nbconvert_exporter": "python",
   "pygments_lexer": "ipython3",
   "version": "3.8.3"
  }
 },
 "nbformat": 4,
 "nbformat_minor": 4
}
